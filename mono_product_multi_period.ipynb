{
 "cells": [
  {
   "cell_type": "markdown",
   "source": [
    "<h1>Mono product multi period inventory problem</h1>\n",
    "<p>The followin notebook shows hot to use a library for solving the mono product multi period inventory problem.\n",
    "</p>\n",
    "<p>This model find the optimal purchase plan that optimize the total relevant cost (TRC) given an initial inventory, minimun batch size, holding product at inventory cost, placing order cost, safety stock to keep, based in a given sales forecast and a previous purchase plan.</p>\n",
    "\n",
    "<p>First, we are going to import the requested libraries:</p>"
   ],
   "metadata": {}
  },
  {
   "cell_type": "code",
   "execution_count": 1,
   "source": [
    "from lp_supply import inventory_solvers as pa\n",
    "import matplotlib.pyplot as plt\n",
    "import numpy as np"
   ],
   "outputs": [],
   "metadata": {}
  },
  {
   "cell_type": "markdown",
   "source": [
    "<p>In the following cell we are setting the initial parameters, they will be used as input.\n",
    "</p>"
   ],
   "metadata": {}
  },
  {
   "cell_type": "code",
   "execution_count": 2,
   "source": [
    "leadtime = 5\n",
    "initialInventory = 25\n",
    "minpurchasequantity = 12\n",
    "maxCapacity = [200, 200, 200, 200, 200, 200, 200, 200, 0, 200, 0, 200, 200, 200, 200]\n",
    "purchasecost = 100\n",
    "safetystock = 5.0\n",
    "holdingcost = 20*0.5\n",
    "#forecast = np.random.exponential(scale=5, size=20)\n",
    "forecast = [5, 5, 5, 4, 4, 10, 5, 5, 5, 5, 5, 5, 50, 5, 5]\n",
    "arrivals = [0, 0, 0, 0, 0]"
   ],
   "outputs": [],
   "metadata": {}
  },
  {
   "cell_type": "markdown",
   "source": [
    "<p>Ahora creamos una instancia de la clase de Planeación agregada y pasamos los parámetros al constructor, posteriormente llamamos al metodo solve() que retornará el plan de compras y el inventario proyectado con base en el plan.</p>"
   ],
   "metadata": {}
  },
  {
   "cell_type": "code",
   "execution_count": 3,
   "source": [
    "planeacion = pa.PlaneacionAgregada(leadtime, \n",
    "                                   initialInventory, \n",
    "                                   minpurchasequantity, \n",
    "                                   purchasecost, \n",
    "                                   holdingcost, \n",
    "                                   forecast,\n",
    "                                   arrivals,\n",
    "                                   maxCapacity,\n",
    "                                   safetystock)\n",
    "plan, proyInventory, inventoryCost = planeacion.solve(verbose=False)"
   ],
   "outputs": [
    {
     "output_type": "stream",
     "name": "stdout",
     "text": [
      "Welcome to the CBC MILP Solver \n",
      "Version: 2.10.3 \n",
      "Build Date: Dec 15 2019 \n",
      "\n",
      "command line - /Users/luispinilla/Documents/inventory_management_lp/lp_optimal_supply/venv/lib/python3.9/site-packages/pulp/apis/../solverdir/cbc/osx/64/cbc /var/folders/zc/7j16sq9s55d3sj1zm53r4lb80000gn/T/3fd1bd0700a9487fbbecadbda90b91a8-pulp.mps branch printingOptions all solution /var/folders/zc/7j16sq9s55d3sj1zm53r4lb80000gn/T/3fd1bd0700a9487fbbecadbda90b91a8-pulp.sol (default strategy 1)\n",
      "At line 2 NAME          MODEL\n",
      "At line 3 ROWS\n",
      "At line 60 COLUMNS\n",
      "At line 228 RHS\n",
      "At line 284 BOUNDS\n",
      "At line 345 ENDATA\n",
      "Problem MODEL has 55 rows, 45 columns and 107 elements\n",
      "Coin0008I MODEL read with 0 errors\n",
      "Continuous objective value is 1131.5 - 0.00 seconds\n",
      "Cgl0004I processed model has 24 rows, 25 columns (12 integer (12 of which binary)) and 64 elements\n",
      "Cbc0038I Initial state - 8 integers unsatisfied sum - 0.731707\n",
      "Cbc0038I Pass   1: suminf.    0.00000 (0) obj. 6530 iterations 8\n",
      "Cbc0038I Solution found of 6530\n",
      "Cbc0038I Relaxing continuous gives 6530\n",
      "Cbc0038I Before mini branch and bound, 4 integers at bound fixed and 5 continuous\n",
      "Cbc0038I Full problem 24 rows 25 columns, reduced to 14 rows 14 columns\n",
      "Cbc0038I Mini branch and bound improved solution from 6530 to 1870 (0.01 seconds)\n",
      "Cbc0038I Round again with cutoff of 1808.32\n",
      "Cbc0038I Pass   2: suminf.    0.55730 (4) obj. 1808.32 iterations 4\n",
      "Cbc0038I Pass   3: suminf.    0.36243 (5) obj. 1808.32 iterations 11\n",
      "Cbc0038I Pass   4: suminf.    1.73492 (5) obj. 1808.32 iterations 6\n",
      "Cbc0038I Pass   5: suminf.    0.19560 (4) obj. 1808.32 iterations 5\n",
      "Cbc0038I Pass   6: suminf.    1.18799 (5) obj. 1808.32 iterations 9\n",
      "Cbc0038I Pass   7: suminf.    0.14641 (4) obj. 1808.32 iterations 3\n",
      "Cbc0038I Pass   8: suminf.    1.18799 (5) obj. 1808.32 iterations 7\n",
      "Cbc0038I Pass   9: suminf.    0.14641 (4) obj. 1808.32 iterations 4\n",
      "Cbc0038I Pass  10: suminf.    1.18799 (5) obj. 1808.32 iterations 8\n",
      "Cbc0038I Pass  11: suminf.    0.14641 (4) obj. 1808.32 iterations 3\n",
      "Cbc0038I Pass  12: suminf.    1.33565 (5) obj. 1808.32 iterations 6\n",
      "Cbc0038I Pass  13: suminf.    0.36243 (5) obj. 1808.32 iterations 2\n",
      "Cbc0038I Pass  14: suminf.    1.73492 (5) obj. 1808.32 iterations 6\n",
      "Cbc0038I Pass  15: suminf.    0.19560 (4) obj. 1808.32 iterations 5\n",
      "Cbc0038I Pass  16: suminf.    1.18799 (5) obj. 1808.32 iterations 9\n",
      "Cbc0038I Pass  17: suminf.    0.14641 (4) obj. 1808.32 iterations 3\n",
      "Cbc0038I Pass  18: suminf.    1.18799 (5) obj. 1808.32 iterations 7\n",
      "Cbc0038I Pass  19: suminf.    0.14641 (4) obj. 1808.32 iterations 4\n",
      "Cbc0038I Pass  20: suminf.    1.18799 (5) obj. 1808.32 iterations 8\n",
      "Cbc0038I Pass  21: suminf.    0.14641 (4) obj. 1808.32 iterations 3\n",
      "Cbc0038I Pass  22: suminf.    1.33565 (5) obj. 1808.32 iterations 6\n",
      "Cbc0038I Pass  23: suminf.    0.36243 (5) obj. 1808.32 iterations 2\n",
      "Cbc0038I Pass  24: suminf.    1.73492 (5) obj. 1808.32 iterations 6\n",
      "Cbc0038I Pass  25: suminf.    0.19560 (4) obj. 1808.32 iterations 5\n",
      "Cbc0038I Pass  26: suminf.    1.18799 (5) obj. 1808.32 iterations 9\n",
      "Cbc0038I Pass  27: suminf.    0.14641 (4) obj. 1808.32 iterations 3\n",
      "Cbc0038I Pass  28: suminf.    1.18799 (5) obj. 1808.32 iterations 7\n",
      "Cbc0038I Pass  29: suminf.    0.14641 (4) obj. 1808.32 iterations 4\n",
      "Cbc0038I Pass  30: suminf.    1.18799 (5) obj. 1808.32 iterations 8\n",
      "Cbc0038I Pass  31: suminf.    0.14641 (4) obj. 1808.32 iterations 3\n",
      "Cbc0038I No solution found this major pass\n",
      "Cbc0038I Before mini branch and bound, 4 integers at bound fixed and 5 continuous\n",
      "Cbc0038I Full problem 24 rows 25 columns, reduced to 14 rows 14 columns\n",
      "Cbc0038I Mini branch and bound did not improve solution (0.01 seconds)\n",
      "Cbc0038I After 0.01 seconds - Feasibility pump exiting with objective of 1870 - took 0.01 seconds\n",
      "Cbc0012I Integer solution of 1870 found by feasibility pump after 0 iterations and 0 nodes (0.01 seconds)\n",
      "Cbc0038I Full problem 24 rows 25 columns, reduced to 16 rows 17 columns\n",
      "Cbc0031I 9 added rows had average density of 5.8888889\n",
      "Cbc0013I At root node, 9 cuts changed objective from 1253.1707 to 1869.5182 in 85 passes\n",
      "Cbc0014I Cut generator 0 (Probing) - 44 row cuts average 2.8 elements, 2 column cuts (2 active)  in 0.003 seconds - new frequency is 1\n",
      "Cbc0014I Cut generator 1 (Gomory) - 122 row cuts average 9.3 elements, 0 column cuts (0 active)  in 0.003 seconds - new frequency is 1\n",
      "Cbc0014I Cut generator 2 (Knapsack) - 0 row cuts average 0.0 elements, 0 column cuts (0 active)  in 0.005 seconds - new frequency is -100\n",
      "Cbc0014I Cut generator 3 (Clique) - 0 row cuts average 0.0 elements, 0 column cuts (0 active)  in 0.000 seconds - new frequency is -100\n",
      "Cbc0014I Cut generator 4 (MixedIntegerRounding2) - 22 row cuts average 2.5 elements, 0 column cuts (0 active)  in 0.002 seconds - new frequency is 1\n",
      "Cbc0014I Cut generator 5 (FlowCover) - 0 row cuts average 0.0 elements, 0 column cuts (0 active)  in 0.005 seconds - new frequency is -100\n",
      "Cbc0014I Cut generator 6 (TwoMirCuts) - 35 row cuts average 3.9 elements, 0 column cuts (0 active)  in 0.002 seconds - new frequency is 1\n",
      "Cbc0001I Search completed - best objective 1870, took 199 iterations and 0 nodes (0.05 seconds)\n",
      "Cbc0032I Strong branching done 6 times (22 iterations), fathomed 1 nodes and fixed 0 variables\n",
      "Cbc0035I Maximum depth 0, 6 variables fixed on reduced cost\n",
      "Cuts at root node changed objective from 1253.17 to 1870\n",
      "Probing was tried 85 times and created 46 cuts of which 0 were active after adding rounds of cuts (0.003 seconds)\n",
      "Gomory was tried 85 times and created 122 cuts of which 0 were active after adding rounds of cuts (0.003 seconds)\n",
      "Knapsack was tried 85 times and created 0 cuts of which 0 were active after adding rounds of cuts (0.005 seconds)\n",
      "Clique was tried 85 times and created 0 cuts of which 0 were active after adding rounds of cuts (0.000 seconds)\n",
      "MixedIntegerRounding2 was tried 85 times and created 22 cuts of which 0 were active after adding rounds of cuts (0.002 seconds)\n",
      "FlowCover was tried 85 times and created 0 cuts of which 0 were active after adding rounds of cuts (0.005 seconds)\n",
      "TwoMirCuts was tried 85 times and created 35 cuts of which 0 were active after adding rounds of cuts (0.002 seconds)\n",
      "ZeroHalf was tried 1 times and created 0 cuts of which 0 were active after adding rounds of cuts (0.000 seconds)\n",
      "\n",
      "Result - Optimal solution found\n",
      "\n",
      "Objective value:                1870.00000000\n",
      "Enumerated nodes:               0\n",
      "Total iterations:               199\n",
      "Time (CPU seconds):             0.05\n",
      "Time (Wallclock seconds):       0.05\n",
      "\n",
      "Option for printingOptions changed from normal to all\n",
      "Total time (CPU seconds):       0.05   (Wallclock seconds):       0.05\n",
      "\n"
     ]
    }
   ],
   "metadata": {}
  },
  {
   "cell_type": "markdown",
   "source": [
    "<p>visualizar todos los resultados:</p>"
   ],
   "metadata": {}
  },
  {
   "cell_type": "code",
   "execution_count": 5,
   "source": [
    "print(\"Inventory plan cost = {0}\".format(inventoryCost))\n",
    "print('plan:\\t', plan)\n",
    "print('fcast:\\t', forecast)\n",
    "print('inv.:\\t', proyInventory)"
   ],
   "outputs": [
    {
     "output_type": "stream",
     "name": "stdout",
     "text": [
      "Inventory plan cost = 10.0*InventoryAt0 + 10.0*InventoryAt1 + 10.0*InventoryAt10 + 10.0*InventoryAt11 + 10.0*InventoryAt12 + 10.0*InventoryAt13 + 10.0*InventoryAt14 + 10.0*InventoryAt2 + 10.0*InventoryAt3 + 10.0*InventoryAt4 + 10.0*InventoryAt5 + 10.0*InventoryAt6 + 10.0*InventoryAt7 + 10.0*InventoryAt8 + 10.0*InventoryAt9 + 100*PlacePO0 + 100*PlacePO1 + 100*PlacePO10 + 100*PlacePO11 + 100*PlacePO12 + 100*PlacePO13 + 100*PlacePO14 + 100*PlacePO2 + 100*PlacePO3 + 100*PlacePO4 + 100*PlacePO5 + 100*PlacePO6 + 100*PlacePO7 + 100*PlacePO8 + 100*PlacePO9\n",
      "plan:\t [18.0, 0.0, 15.0, 0.0, 0.0, 12.0, 0.0, 58.0, 0.0, 0.0, 0.0, 0.0, 0.0, 0.0, 0.0]\n",
      "fcast:\t [5, 5, 5, 4, 4, 10, 5, 5, 5, 5, 5, 5, 50, 5, 5]\n",
      "inv.:\t [20.0, 15.0, 10.0, 6.0, 2.0, 10.0, 5.0, 15.0, 10.0, 5.0, 12.0, 7.0, 15.0, 10.0, 5.0]\n"
     ]
    }
   ],
   "metadata": {
    "scrolled": true
   }
  },
  {
   "cell_type": "markdown",
   "source": [
    "<p>Presentar un gráfico con el plan contruido.</p>"
   ],
   "metadata": {}
  },
  {
   "cell_type": "code",
   "execution_count": null,
   "source": [
    "x = np.arange(len(forecast))\n",
    "plt.figure(num=None, dpi=96, figsize=(15,5))\n",
    "plt.bar(x, plan, label=\"Compras\")\n",
    "plt.plot(x, proyInventory, label=\"Inv. Proy.\", color=\"green\")\n",
    "plt.plot(x, np.zeros(len(forecast)) + safetystock, label=\"SS\", color=\"blue\")\n",
    "plt.plot(x, forecast, label=\"forecast\", color=\"red\")\n",
    "plt.plot(x, maxCapacity, label=\"Capacity\", color=\"yellow\")\n",
    "plt.legend(loc = 1)\n",
    "plt.show()",
    "# pendiente despliegue"
   ],
   "outputs": [
    {
     "output_type": "display_data",
     "data": {
      "image/png": "[encoded data removed]",
      "text/plain": [
       "<Figure size 1440x480 with 1 Axes>"
      ]
     },
     "metadata": {
      "needs_background": "light"
     }
    }
   ],
   "metadata": {}
  },
  {
   "cell_type": "code",
   "execution_count": null,
   "source": [],
   "outputs": [],
   "metadata": {
    "jupyter": {
     "outputs_hidden": true
    }
   }
  }
 ],
 "metadata": {
  "interpreter": {
   "hash": "e2f8d96477f1d41acca9c65978d303dd2041de5a3a56281eaa66089347d725ee"
  },
  "kernelspec": {
   "name": "python3",
   "display_name": "Python 3.9.7 64-bit ('venv': venv)"
  },
  "language_info": {
   "codemirror_mode": {
    "name": "ipython",
    "version": 3
   },
   "file_extension": ".py",
   "mimetype": "text/x-python",
   "name": "python",
   "nbconvert_exporter": "python",
   "pygments_lexer": "ipython3",
   "version": "3.9.7"
  },
  "metadata": {
   "interpreter": {
    "hash": "ac59ebe37160ed0dfa835113d9b8498d9f09ceb179beaac4002f036b9467c963"
   }
  }
 },
 "nbformat": 4,
 "nbformat_minor": 4
}
