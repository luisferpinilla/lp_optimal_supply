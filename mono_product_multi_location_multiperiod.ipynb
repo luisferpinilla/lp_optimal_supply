{
 "cells": [
  {
   "cell_type": "markdown",
   "metadata": {},
   "source": [
    "<h1>Programación matemática</h1>\n",
    "<p>Este modelo genera las cantidades sugeridas a pedir un único proveedor, que puede atender a varias bodegas, cada una de ellas con su propio forecast de venta en función del forecast de venta.</p>\n",
    "<p><strong>Conjuntos</strong>:</p>\n",
    "<ul>\n",
    "    <li>b: conjunto de bodegas</li>\n",
    "    <li>t: conjunto de periodos</li>\n",
    "</ul>\n",
    "<p><strong>Parámetros</strong>:</p>\n",
    "<ul>\n",
    "    <li>$ HE $: costo unitario de mantener el producto en bodega. Surge del costo del producto y el costo de oportunidad por periodo</li>\n",
    "    <li>$ CP $: costo de colocar una orden de abastecimiento para un sku totalizando las tres bodegas</li>\n",
    "    <li>$ I_{bo} $: Inventario inicial en la bodega b</li>\n",
    "    <li>$ SS_{b} $: Inventario de seguridad para el final del periodo. El modelo intentará mantener el cierre de inventario sobre esta cifra en on_hand</li>\n",
    "    <li>$ LM $: Lote mínimo de producción, asegurará que la suma del pedido de las bodegas no esté por debajo de este valor.</li>\n",
    "    <li>$ MPO $: Pedido mínimo: Asegura que no se sugieran pedidos de menos de este valor.</li>\n",
    "    <li>$ F_{bt} $: Pronóstico de ventas del producto en la bodega b durante el periodo t</li>\n",
    "    <li>$ A_{bt} $: Llegadas calculadas de producto a la bodega b durante el periodo t</li>\n",
    "    <li>$ LT_{b} $: Lead time calculado entre las plantas y las bodegas</li>\n",
    "</ul>\n",
    "<p><strong>Variables</strong>:</p>\n",
    "<ul>\n",
    "    <li>$ X_{bt} $: Cantidad de producto a pedir para la bodega b durante el periodo t</li>\n",
    "    <li>$ M_{bt} $: Binaria, 1 si se coloca el pedido mínimo (30 metros?) durante el periodo t para la bodega b; 0 en otr caso</li>\n",
    "    <li>$ P_{t} $: Binary, 1 si se coloca un pedido desde cualquiera de las bodegas durante el periodo t. Esta se usará para garantizar el pedido mínimo para producción</li>\n",
    "    <li>$ I_{bt} $: Variable de Estado, Cantidad de producto al cierre del periodo t en la bodega b</li>\n",
    "</ul>\n",
    "<p><strong>Función objetivo</strong>:</p>\n",
    "<p>La siguiente expresión minimiza el costo total relevante compuesto por el costo total de colocar las órdenes de pedido y el costo de mantener el inventario:</p>\n",
    "<p>$ min \\sum_{bt}{CP*P_{t} + HE*X_{bt}} $ </p>\n",
    "<p><strong>Sujeto a</strong>:</p>\n",
    "<p><strong>Resticción de Inventario de seguridad:</strong> Evita que quede inventario por debajo del SS luego del leadtime</p>\n",
    "<p>$ I_{bt} \\geq {SS_{bt}} \\forall{t > LT_{b}}$</p>\n",
    "<p><strong>Flujos de inventario:</strong> Mantiene el balance de masa del inventario. Para el primer caso, se encarga de inicializar el inventario, en el segundo del flujo durante el lead time y, finalmente, el flujo cuando los pedidos colocados empiezan a llegar</p>\n",
    "<p>$ I_{bt} = I_{bo} - F_{bt} + A_{bt} \\forall{b}; t=0 $</p>\n",
    "<p>$ I_{bt} = I_{bt} - F_{bt} + A_{bt} \\forall b ; \\forall 1 < t < LT $</p>\n",
    "<p>$ I_{bt} = I_{bt} - F_{bt} + A_{bt} + X_{bt} \\forall b ; \\forall t \\geq LT $</p>"
   ]
  },
  {
   "cell_type": "code",
   "execution_count": 1,
   "metadata": {},
   "outputs": [],
   "source": [
    "from lp_supply.inventory_solvers import mono_product_multiperiod_multi_location\n",
    "import numpy as np"
   ]
  },
  {
   "cell_type": "code",
   "execution_count": 2,
   "metadata": {},
   "outputs": [
    {
     "data": {
      "text/plain": [
       "10"
      ]
     },
     "execution_count": 2,
     "metadata": {},
     "output_type": "execute_result"
    }
   ],
   "source": [
    "np.sum([[10,0,0,0,0]])"
   ]
  },
  {
   "cell_type": "code",
   "execution_count": 3,
   "metadata": {},
   "outputs": [
    {
     "data": {
      "text/plain": [
       "([[0.0, 0.0, 0.0, 0.0, 0.0],\n",
       "  [0.0, 0.0, 0.0, 0.0, 0.0],\n",
       "  [0.0, 0.0, 0.0, 0.0, 0.0]],\n",
       " [[0.0, 0.0, 0.0, 0.0, 0.0],\n",
       "  [0.0, 0.0, 0.0, 0.0, 0.0],\n",
       "  [0.0, 0.0, 0.0, 0.0, 0.0]],\n",
       " [[10, 0, 0, 0, 0], [0, 10, 0, 0, 0], [0, 0, 0, 10, 0]],\n",
       " [[0, 0, 0, 0, 0], [0, 0, 0, 0, 0], [0, 0, 0, 0, 0]])"
      ]
     },
     "execution_count": 3,
     "metadata": {},
     "output_type": "execute_result"
    }
   ],
   "source": [
    "pedidos, inventario, presupuesto, arrivals = mono_product_multiperiod_multi_location(holding_cost=0.0,\n",
    "                                                                                     order_cost=0.0,\n",
    "                                                                                     initial_inventory=[0.0, 0.0, 0.0],\n",
    "                                                                                     safety_stock=[10,10,10],\n",
    "                                                                                     min_batch_size=400,\n",
    "                                                                                     min_po=50,\n",
    "                                                                                     forecast=[[10,0,0,0,0],[0,10,0,0,0],[0,0,0,10,0]],\n",
    "                                                                                     arrivals=[[0,0,0,0,0],[0,0,0,0,0],[0,0,0,0,0]],\n",
    "                                       leadtime=[1,3,1])"
   ]
  },
  {
   "cell_type": "code",
   "execution_count": null,
   "metadata": {},
   "outputs": [],
   "source": []
  }
 ],
 "metadata": {
  "kernelspec": {
   "display_name": "Python 3",
   "language": "python",
   "name": "python3"
  },
  "language_info": {
   "codemirror_mode": {
    "name": "ipython",
    "version": 3
   },
   "file_extension": ".py",
   "mimetype": "text/x-python",
   "name": "python",
   "nbconvert_exporter": "python",
   "pygments_lexer": "ipython3",
   "version": "3.9.2"
  }
 },
 "nbformat": 4,
 "nbformat_minor": 2
}
