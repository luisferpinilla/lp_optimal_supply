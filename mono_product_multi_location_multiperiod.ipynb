{
 "cells": [
  {
   "cell_type": "markdown",
   "metadata": {},
   "source": [
    "<h1>Programación matemática</h1>\n",
    "<p>Este modelo genera las cantidades sugeridas a pedir un único proveedor, que puede atender a varias bodegas, cada una de ellas con su propio forecast de venta en función del forecast de venta.</p>\n",
    "<p><strong>Conjuntos</strong>:</p>\n",
    "<ul>\n",
    "    <li>b: conjunto de bodegas</li>\n",
    "    <li>t: conjunto de periodos</li>\n",
    "</ul>\n",
    "<p><strong>Parámetros</strong>:</p>\n",
    "<ul>\n",
    "    <li>$ HE $: costo unitario de mantener el producto en bodega. Surge del costo del producto y el costo de oportunidad por periodo</li>\n",
    "    <li>$ CP $: costo de colocar una orden de abastecimiento para un sku totalizando las tres bodegas</li>\n",
    "    <li>$ I_{bo} $: Inventario inicial en la bodega b</li>\n",
    "    <li>$ SS_{b} $: Inventario de seguridad para el final del periodo. El modelo intentará mantener el cierre de inventario sobre esta cifra en on_hand</li>\n",
    "    <li>$ LM $: Lote mínimo de producción, asegurará que la suma del pedido de las bodegas no esté por debajo de este valor.</li>\n",
    "    <li>$ MPO $: Pedido mínimo: Asegura que no se sugieran pedidos de menos de este valor.</li>\n",
    "    <li>$ F_{bt} $: Pronóstico de ventas del producto en la bodega b durante el periodo t</li>\n",
    "    <li>$ A_{bt} $: Llegadas calculadas de producto a la bodega b durante el periodo t</li>\n",
    "    <li>$ LT_{b} $: Lead time calculado entre las plantas y las bodegas</li>\n",
    "</ul>\n",
    "<p><strong>Variables</strong>:</p>\n",
    "<ul>\n",
    "    <li>$ X_{bt} $: Cantidad de producto a pedir para la bodega b durante el periodo t</li>\n",
    "    <li>$ M_{bt} $: Binaria, 1 si se coloca el pedido mínimo (30 metros?) durante el periodo t para la bodega b; 0 en otr caso</li>\n",
    "    <li>$ P_{t} $: Binary, 1 si se coloca un pedido desde cualquiera de las bodegas durante el periodo t. Esta se usará para garantizar el pedido mínimo para producción</li>\n",
    "    <li>$ I_{bt} $: Variable de Estado, Cantidad de producto al cierre del periodo t en la bodega b</li>\n",
    "</ul>\n",
    "<p><strong>Función objetivo</strong>:</p>\n",
    "<p>La siguiente expresión minimiza el costo total relevante compuesto por el costo total de colocar las órdenes de pedido y el costo de mantener el inventario:</p>\n",
    "<p>$ min \\sum_{bt}{CP*P_{t} + HE*X_{bt}} $ </p>\n",
    "<p><strong>Sujeto a</strong>:</p>\n",
    "<p><strong>Resticción de Inventario de seguridad:</strong> Evita que quede inventario por debajo del SS luego del leadtime</p>\n",
    "<p>$ I_{bt} \\geq {SS_{bt}} \\forall{t > LT_{b}}$</p>\n",
    "<p><strong>Flujos de inventario:</strong> Mantiene el balance de masa del inventario. Para el primer caso, se encarga de inicializar el inventario, en el segundo del flujo durante el lead time y, finalmente, el flujo cuando los pedidos colocados empiezan a llegar</p>\n",
    "<p>$ I_{bt} = I_{bo} - F_{bt} + A_{bt} \\forall{b}; t=0 $</p>\n",
    "<p>$ I_{bt} = I_{bt} - F_{bt} + A_{bt} \\forall b ; \\forall 1 < t < LT $</p>\n",
    "<p>$ I_{bt} = I_{bt} - F_{bt} + A_{bt} + X_{bt} \\forall b ; \\forall t \\geq LT $</p>"
   ]
  },
  {
   "cell_type": "code",
   "execution_count": 1,
   "metadata": {},
   "outputs": [],
   "source": [
    "from lp_supply.inventory_solvers import mono_product_multiperiod_multi_location\n",
    "import numpy as np"
   ]
  },
  {
   "cell_type": "markdown",
   "metadata": {},
   "source": [
    "<p>Una compañia dispone de 3 bodegas en 3 lugares diferentes, cada una de ellas con una demanda de un producto establecida, un inventario inicial, un inventario de seguridad. La siguiente tabla muestra la demanda de producto de las tres bodegas:</p>\n",
    "<table>\n",
    "    <tr>\n",
    "        <td>Variable</td>\n",
    "        <td>Semana 1</td>\n",
    "        <td>Semana 2</td>\n",
    "        <td>Semana 4</td>\n",
    "        <td>Semana 5</td>\n",
    "        <td>Semana 6</td>\n",
    "    </tr>\n",
    "    <tr>\n",
    "        <td>Demanda bodega 1</td>\n",
    "        <td>10</td>\n",
    "        <td>10</td>\n",
    "        <td>10</td>\n",
    "        <td>10</td>\n",
    "        <td>10</td>\n",
    "    </tr>\n",
    "    <tr>\n",
    "        <td>Demanda bodega 2</td>\n",
    "        <td>20</td>\n",
    "        <td>10</td>\n",
    "        <td>0</td>\n",
    "        <td>10</td>\n",
    "        <td>10</td>\n",
    "    </tr>\n",
    "    <tr>\n",
    "        <td>Demanda bodega 3</td>\n",
    "        <td>10</td>\n",
    "        <td>10</td>\n",
    "        <td>10</td>\n",
    "        <td>10</td>\n",
    "        <td>10</td>\n",
    "    </tr>\n",
    "</table>\n",
    "<p>Suponga que las tres bodegas tienen un safety stock de 10 unidades, el pedido mínimo que se puede hacer al proveedor es de 400 unidades, y cada bodega debe recibir al menos 50 unidades. Si no hay pedidos anteriores puestos al proveedor (arrivals en 0) y todas las bodegas tienen un lead time de 1 semana, cuál debe ser el plan de pedidos?"
   ]
  },
  {
   "cell_type": "code",
   "execution_count": 2,
   "metadata": {},
   "outputs": [],
   "source": [
    "# crear una variable donde la función va a retornar los valores\n",
    "ejemplo = mono_product_multiperiod_multi_location(holding_cost=0.46,\n",
    "                                                  order_cost=150,\n",
    "                                                  initial_inventory=[10.0, 0.0, 0.0],\n",
    "                                                  safety_stock=[10,10,10],\n",
    "                                                  min_batch_size=400,\n",
    "                                                  min_po=50,\n",
    "                                                  forecast=[[10,10,10,10,10],\n",
    "                                                            [20,10,0,10,10],\n",
    "                                                            [10,10,10,10,10]],\n",
    "                                                  arrivals=[[0,0,0,0,0],\n",
    "                                                            [0,0,0,0,0],\n",
    "                                                            [0,0,0,0,0]],\n",
    "                                                  leadtime=[1,1,1])\n"
   ]
  },
  {
   "cell_type": "markdown",
   "metadata": {},
   "source": [
    "<p>Luego de ejecutar la función, los pedidos para las bodegas respectivas son:</p>"
   ]
  },
  {
   "cell_type": "code",
   "execution_count": 3,
   "metadata": {},
   "outputs": [
    {
     "name": "stdout",
     "output_type": "stream",
     "text": [
      "Pedidos para la bodega 1: [150.0, 0.0, 0.0, 0.0, 0.0]\n",
      "Pedidos para la bodega 2: [150.0, 0.0, 0.0, 0.0, 0.0]\n",
      "Pedidos para la bodega 3: [100.0, 0.0, 0.0, 0.0, 0.0]\n"
     ]
    }
   ],
   "source": [
    "print('Pedidos para la bodega 1:', ejemplo[0][0])\n",
    "print('Pedidos para la bodega 2:', ejemplo[0][1])\n",
    "print('Pedidos para la bodega 3:', ejemplo[0][2])"
   ]
  },
  {
   "cell_type": "markdown",
   "metadata": {},
   "source": [
    "<p>EL invenario proyectado para el final de cada semana es:</p>"
   ]
  },
  {
   "cell_type": "code",
   "execution_count": 4,
   "metadata": {},
   "outputs": [
    {
     "name": "stdout",
     "output_type": "stream",
     "text": [
      "inventario para la bodega 1: [0.0, 140.0, 130.0, 120.0, 110.0]\n",
      "inventario para la bodega 2: [-20.0, 120.0, 120.0, 110.0, 100.0]\n",
      "inventario para la bodega 3: [-10.0, 80.0, 70.0, 60.0, 50.0]\n"
     ]
    }
   ],
   "source": [
    "print('inventario para la bodega 1:', ejemplo[1][0])\n",
    "print('inventario para la bodega 2:', ejemplo[1][1])\n",
    "print('inventario para la bodega 3:', ejemplo[1][2])"
   ]
  },
  {
   "cell_type": "markdown",
   "metadata": {},
   "source": [
    "<p>Note que el inventario de las bodegas 2 y 3 cierra en la primera semana en negativo, esto es debido a que el inventario inicial es muy bajo y no alcanza a ser cubierto por el pedido se el modelo colocará en la primera semana.</p>\n",
    "<p>A continuación, asumiremos que el pedido mínimo es de 150 unidades</p>"
   ]
  },
  {
   "cell_type": "code",
   "execution_count": 5,
   "metadata": {},
   "outputs": [],
   "source": [
    "# crear una variable donde la función va a retornar los valores\n",
    "ejemplo = mono_product_multiperiod_multi_location(holding_cost=0.46,\n",
    "                                                  order_cost=150,\n",
    "                                                  initial_inventory=[10.0, 0.0, 0.0],\n",
    "                                                  safety_stock=[10,10,10],\n",
    "                                                  min_batch_size=150,\n",
    "                                                  min_po=50,\n",
    "                                                  forecast=[[10,10,10,10,10],\n",
    "                                                            [20,10,0,10,10],\n",
    "                                                            [10,10,10,10,10]],\n",
    "                                                  arrivals=[[0,0,0,0,0],\n",
    "                                                            [0,0,0,0,0],\n",
    "                                                            [0,0,0,0,0]],\n",
    "                                                  leadtime=[1,1,1])\n"
   ]
  },
  {
   "cell_type": "markdown",
   "metadata": {},
   "source": [
    "<p>Por lo que luego de ejecutar la función, los pedidos para las bodegas cambian, pero asegurando pedir mínimo 50 unidades para cada bodega y 150 en total al proveedor:</p>"
   ]
  },
  {
   "cell_type": "code",
   "execution_count": 6,
   "metadata": {},
   "outputs": [
    {
     "name": "stdout",
     "output_type": "stream",
     "text": [
      "Pedidos para la bodega 1: [50.0, 0.0, 0.0, 0.0, 0.0]\n",
      "Pedidos para la bodega 2: [60.0, 0.0, 0.0, 0.0, 0.0]\n",
      "Pedidos para la bodega 3: [60.0, 0.0, 0.0, 0.0, 0.0]\n"
     ]
    }
   ],
   "source": [
    "print('Pedidos para la bodega 1:', ejemplo[0][0])\n",
    "print('Pedidos para la bodega 2:', ejemplo[0][1])\n",
    "print('Pedidos para la bodega 3:', ejemplo[0][2])"
   ]
  },
  {
   "cell_type": "markdown",
   "metadata": {},
   "source": [
    "<p>y el invenario proyectado para el final de cada semana es cambiará a:</p>"
   ]
  },
  {
   "cell_type": "code",
   "execution_count": 7,
   "metadata": {},
   "outputs": [
    {
     "name": "stdout",
     "output_type": "stream",
     "text": [
      "inventario para la bodega 1: [0.0, 40.0, 30.0, 20.0, 10.0]\n",
      "inventario para la bodega 2: [-20.0, 30.0, 30.0, 20.0, 10.0]\n",
      "inventario para la bodega 3: [-10.0, 40.0, 30.0, 20.0, 10.0]\n"
     ]
    }
   ],
   "source": [
    "print('inventario para la bodega 1:', ejemplo[1][0])\n",
    "print('inventario para la bodega 2:', ejemplo[1][1])\n",
    "print('inventario para la bodega 3:', ejemplo[1][2])"
   ]
  },
  {
   "cell_type": "markdown",
   "metadata": {},
   "source": [
    "<p>Note que el inventario de las bodegas 2 y 3 continúa cerrando en la primera semana en negativo,\n",
    "<p>finalmente, supongamos que la demanda de la bodega 3 en la semana 4 cambia a 50 unidades, por lo que re-calcularemos los pedidos:</p>"
   ]
  },
  {
   "cell_type": "code",
   "execution_count": 8,
   "metadata": {},
   "outputs": [],
   "source": [
    "# crear una variable donde la función va a retornar los valores\n",
    "ejemplo = mono_product_multiperiod_multi_location(holding_cost=0.46,\n",
    "                                                  order_cost=150,\n",
    "                                                  initial_inventory=[10.0, 0.0, 0.0],\n",
    "                                                  safety_stock=[10,10,10],\n",
    "                                                  min_batch_size=150,\n",
    "                                                  min_po=50,\n",
    "                                                  forecast=[[10,10,10,10,10],\n",
    "                                                            [20,10,0,10,10],\n",
    "                                                            [10,10,10,50,10]],\n",
    "                                                  arrivals=[[0,0,0,0,0],\n",
    "                                                            [0,0,0,0,0],\n",
    "                                                            [0,0,0,0,0]],\n",
    "                                                  leadtime=[1,1,1])\n"
   ]
  },
  {
   "cell_type": "markdown",
   "metadata": {},
   "source": [
    "<p>Al ejecutar la función, los pedidos para las bodegas cambian, ahora la bodega 3 hará un pedido más grande y el modelo continua asegurando pedir mínimo 50 unidades para cada bodega y 150 en total al proveedor:</p>"
   ]
  },
  {
   "cell_type": "code",
   "execution_count": 9,
   "metadata": {},
   "outputs": [
    {
     "name": "stdout",
     "output_type": "stream",
     "text": [
      "Pedidos para la bodega 1: [50.0, 0.0, 0.0, 0.0, 0.0]\n",
      "Pedidos para la bodega 2: [60.0, 0.0, 0.0, 0.0, 0.0]\n",
      "Pedidos para la bodega 3: [100.0, 0.0, 0.0, 0.0, 0.0]\n"
     ]
    }
   ],
   "source": [
    "print('Pedidos para la bodega 1:', ejemplo[0][0])\n",
    "print('Pedidos para la bodega 2:', ejemplo[0][1])\n",
    "print('Pedidos para la bodega 3:', ejemplo[0][2])"
   ]
  },
  {
   "cell_type": "markdown",
   "metadata": {},
   "source": [
    "<p>Vamos a cambiar el costo de colocar la orden de compra a 1. Esto supondrá que ahora es más costoso mantener el inventario en bodega que colocar pedidos al proveedor, por lo que el modelo deberá colocar más pedidos:</p>"
   ]
  },
  {
   "cell_type": "code",
   "execution_count": 10,
   "metadata": {},
   "outputs": [],
   "source": [
    "# crear una variable donde la función va a retornar los valores\n",
    "ejemplo = mono_product_multiperiod_multi_location(holding_cost=0.46,\n",
    "                                                  order_cost=1,\n",
    "                                                  initial_inventory=[10.0, 0.0, 0.0],\n",
    "                                                  safety_stock=[10,10,10],\n",
    "                                                  min_batch_size=150,\n",
    "                                                  min_po=50,\n",
    "                                                  forecast=[[10,10,10,10,10],\n",
    "                                                            [20,10,0,10,10],\n",
    "                                                            [10,10,10,50,10]],\n",
    "                                                  arrivals=[[0,0,0,0,0],\n",
    "                                                            [0,0,0,0,0],\n",
    "                                                            [0,0,0,0,0]],\n",
    "                                                  leadtime=[1,1,1])\n"
   ]
  },
  {
   "cell_type": "markdown",
   "metadata": {},
   "source": [
    "<p>Note que ahora el el modelo coloca otro pedido en la semana 4 por lo que el inventario proyectado se verá ahora así:</p>"
   ]
  },
  {
   "cell_type": "code",
   "execution_count": 11,
   "metadata": {},
   "outputs": [
    {
     "name": "stdout",
     "output_type": "stream",
     "text": [
      "Pedidos para la bodega 1: [50.0, 0.0, 0.0, 0.0, 0.0]\n",
      "Pedidos para la bodega 2: [50.0, 0.0, 0.0, 100.0, 0.0]\n",
      "Pedidos para la bodega 3: [90.0, 0.0, 0.0, 50.0, 0.0]\n",
      "inventario para la bodega 1: [0.0, 40.0, 30.0, 20.0, 10.0]\n",
      "inventario para la bodega 2: [-20.0, 20.0, 20.0, 10.0, 100.0]\n",
      "inventario para la bodega 3: [-10.0, 70.0, 60.0, 10.0, 50.0]\n"
     ]
    }
   ],
   "source": [
    "print('Pedidos para la bodega 1:', ejemplo[0][0])\n",
    "print('Pedidos para la bodega 2:', ejemplo[0][1])\n",
    "print('Pedidos para la bodega 3:', ejemplo[0][2])\n",
    "print('inventario para la bodega 1:', ejemplo[1][0])\n",
    "print('inventario para la bodega 2:', ejemplo[1][1])\n",
    "print('inventario para la bodega 3:', ejemplo[1][2])"
   ]
  }
 ],
 "metadata": {
  "kernelspec": {
   "display_name": "Python 3",
   "language": "python",
   "name": "python3"
  },
  "language_info": {
   "codemirror_mode": {
    "name": "ipython",
    "version": 3
   },
   "file_extension": ".py",
   "mimetype": "text/x-python",
   "name": "python",
   "nbconvert_exporter": "python",
   "pygments_lexer": "ipython3",
   "version": "3.9.2"
  }
 },
 "nbformat": 4,
 "nbformat_minor": 2
}
