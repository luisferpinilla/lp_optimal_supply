{
 "cells": [
  {
   "cell_type": "markdown",
   "metadata": {},
   "source": [
    "<h1>Prueba de simulador</h1>\n",
    "<p>Esta prueba consiste en usar el simulador para conocer los momentos en los que se obtendrían los pedidos por parte de Alemania, los momentos en los que se facturarían y el inventario proyectado en la bodeba de Alemania</p>"
   ]
  },
  {
   "cell_type": "code",
   "execution_count": 9,
   "metadata": {},
   "outputs": [],
   "source": [
    "import pandas as pd\n",
    "import numpy as np\n",
    "from sim_utils.events import EventType, Event\n",
    "from datetime import datetime\n",
    "pd.options.display.max_columns = None"
   ]
  },
  {
   "cell_type": "markdown",
   "metadata": {},
   "source": [
    "<h3>importar penplano</h3>"
   ]
  },
  {
   "cell_type": "code",
   "execution_count": 10,
   "metadata": {},
   "outputs": [],
   "source": [
    "# importar penplano\n",
    "penplano_path = 'V:\\\\2022\\\\PEND PLANO ENERO 3.xlsx'\n",
    "pendiente_dtype = {'Cliente': object, 'Producto': object, 'Sc': object}\n",
    "pendiente_colums = ['Pais', 'Mdo', 'Cliente', 'Desp.R.APS',\n",
    "                    'Pendiente', 'Und', 'F.Ingreso', 'Producto', 'Stock']\n",
    "pendiente_df = [\n",
    "    pd.read_excel(penplano_path, sheet_name='PLANOCO', dtype=pendiente_dtype)[pendiente_colums],\n",
    "    pd.read_excel(penplano_path, sheet_name='PLANOCR', dtype=pendiente_dtype)[pendiente_colums]]\n",
    "\n",
    "# concatenar pendiente de ambas plantas\n",
    "pendiente_df = pd.concat(pendiente_df)\n",
    "\n",
    "# remover filas vacias\n",
    "pendiente_df = pendiente_df[~pendiente_df['Pais'].isna()]\n",
    "\n",
    "# Dejar columnas relevantes\n",
    "pendiente_df = pendiente_df[pendiente_colums]\n",
    "# Poner semana requerida\n",
    "pendiente_df['SemanaRequerida'] = pendiente_df['Desp.R.APS'].dt.strftime(\"%Y%V\").astype('int')\n",
    "# dejar el pendiente organizado a la semana actual\n",
    "pendiente_df['SemanaRequerida'] = pendiente_df['SemanaRequerida'].apply(lambda x: x if x >= 202152 else 202152)\n",
    "# Sacar el pendiente para alemania\n",
    "pendiente_df = pendiente_df[pendiente_df['Cliente']==100459].groupby(['Stock', 'SemanaRequerida'])[['Pendiente']].sum().reset_index()"
   ]
  },
  {
   "cell_type": "code",
   "execution_count": 11,
   "metadata": {},
   "outputs": [
    {
     "data": {
      "text/plain": [
       "{202152: 10,\n",
       " 202201: 11,\n",
       " 202202: 12,\n",
       " 202203: 13,\n",
       " 202204: 14,\n",
       " 202205: 15,\n",
       " 202206: 16,\n",
       " 202207: 17,\n",
       " 202208: 18,\n",
       " 202252: 19}"
      ]
     },
     "execution_count": 11,
     "metadata": {},
     "output_type": "execute_result"
    }
   ],
   "source": [
    "semanas = sorted(list(pendiente_df['SemanaRequerida'].unique()))\n",
    "semanas = {semanas[x]:x+10 for x in range(len(semanas))}\n",
    "semanas"
   ]
  },
  {
   "cell_type": "code",
   "execution_count": 12,
   "metadata": {},
   "outputs": [],
   "source": [
    "pendiente_df['Periodo'] = pendiente_df['SemanaRequerida'].map(semanas)"
   ]
  },
  {
   "cell_type": "code",
   "execution_count": 13,
   "metadata": {},
   "outputs": [],
   "source": [
    "pendiente_df = pendiente_df.groupby(['Stock', 'Periodo'])[['Pendiente']].sum().reset_index()"
   ]
  },
  {
   "cell_type": "markdown",
   "metadata": {},
   "source": [
    "<h3>Importar existencias y pendientes comerciales en bodega de Alemania</h3>"
   ]
  },
  {
   "cell_type": "code",
   "execution_count": 14,
   "metadata": {},
   "outputs": [],
   "source": [
    "# importar existencias en bodega destino\n",
    "existencias_gmb_path = 'D:\\\\OneDrive - Proquinal\\\\plan_abactecimiento\\\\suggested_program\\\\Germany Inventory Report 22.12.2021.xlsx'\n",
    "existencias_gmb_df = pd.read_excel(existencias_gmb_path)\n",
    "existencias_gmb_df = existencias_gmb_df.groupby(['Stock Code (CU)'])[['Total on stock', 'Commited/Sold']].sum().reset_index()\n",
    "existencias_gmb_df['qty'] = existencias_gmb_df['Total on stock']-existencias_gmb_df['Commited/Sold']\n",
    "existencias_gmb_df = existencias_gmb_df.groupby(['Stock Code (CU)'])['qty'].sum().reset_index().rename(columns={'Stock Code (CU)':'STOCK'})\n",
    "existencias_gmb_df['Periodo'] = 0\n"
   ]
  },
  {
   "cell_type": "markdown",
   "metadata": {},
   "source": [
    "<h3>Transitos actuales o arrivals</h3>"
   ]
  },
  {
   "cell_type": "code",
   "execution_count": 15,
   "metadata": {},
   "outputs": [],
   "source": [
    "etapas_path = 'Y:\\\\LISTADOS\\\\1. Reportes_consolidados\\\\Reportes_20220103.xlsx'\n",
    "etapas_df = pd.read_excel(etapas_path, sheet_name='Etapas')\n",
    "etapas_df['CANTIDAD DESPACHADA'] = etapas_df['CANTIDAD DESPACHADA'].str.replace(',', '')\n",
    "etapas_df['CANTIDAD DESPACHADA'] = etapas_df['CANTIDAD DESPACHADA'].astype('float')\n",
    "etapas_df = etapas_df[etapas_df['COD_CLIENTE']==100459]\n",
    "etapas_df['SemanaDespacho'] = pd.to_datetime(etapas_df['FECHA DE FACTURA'])\n",
    "etapas_df['FechaArrivo'] =  etapas_df['SemanaDespacho'] +pd.DateOffset(days=35)\n",
    "etapas_df['Periodo'] = etapas_df['FechaArrivo'].dt.strftime(\"%Y%V\").astype('int')\n",
    "etapas_df = etapas_df.groupby(['STOCK', 'Periodo'])[['CANTIDAD DESPACHADA']].sum().reset_index()"
   ]
  },
  {
   "cell_type": "code",
   "execution_count": 16,
   "metadata": {},
   "outputs": [
    {
     "data": {
      "text/plain": [
       "{202201: 2, 202202: 3, 202203: 4, 202204: 5}"
      ]
     },
     "execution_count": 16,
     "metadata": {},
     "output_type": "execute_result"
    }
   ],
   "source": [
    "semanas = sorted(list(etapas_df['Periodo'].unique()))\n",
    "semanas = {semanas[x]:x+2 for x in range(len(semanas))}\n",
    "semanas"
   ]
  },
  {
   "cell_type": "code",
   "execution_count": 17,
   "metadata": {},
   "outputs": [],
   "source": [
    "etapas_df['Periodo'] = etapas_df['Periodo'].map(semanas)"
   ]
  },
  {
   "cell_type": "code",
   "execution_count": 18,
   "metadata": {},
   "outputs": [],
   "source": [
    "# Unir pendientes y etapas en arrivos\n",
    "arrivos_df = pd.concat([pendiente_df[['Stock', 'Periodo', 'Pendiente']].rename(columns={'Stock':'STOCK', 'Pendiente':'qty'}),\n",
    "    etapas_df[['STOCK', 'CANTIDAD DESPACHADA', 'Periodo']].rename(columns={'CANTIDAD DESPACHADA':'qty'})]).groupby(['STOCK', 'Periodo'])[['qty']].sum().reset_index()"
   ]
  },
  {
   "cell_type": "markdown",
   "metadata": {},
   "source": [
    "<h3>Forecast de venta</h3>"
   ]
  },
  {
   "cell_type": "code",
   "execution_count": 19,
   "metadata": {},
   "outputs": [],
   "source": [
    "forecast_path = 'Y:\\\\PlaneacionDemanda\\\\Rollovers\\\\Legacy\\\\202112\\\\output\\\\Europa\\\\Europa_202112 Salida Numérica_BASE.txt'\n",
    "forecast_df = pd.read_csv(forecast_path, sep='\\t')\n",
    "forecast_df = forecast_df[forecast_df['COD_EMPRESA']=='GMB'].copy()\n",
    "#forecast_df = forecast_df[forecast_df['A�o']==2022].copy()\n",
    "forecast_df['STOCK'] = forecast_df['PRODUCTO'].apply(lambda x: str(x).split(sep='=')[0])\n",
    "forecast_df['FechaVenta'] = forecast_df.apply(lambda x: datetime(x['A�o'], x['Per�odo'],1), axis=1)\n",
    "forecast_df['SemanaVenta'] = forecast_df['FechaVenta'].dt.strftime(\"%Y%V\").astype('int')\n"
   ]
  },
  {
   "cell_type": "code",
   "execution_count": 20,
   "metadata": {},
   "outputs": [
    {
     "data": {
      "text/plain": [
       "{202148: 48,\n",
       " 202205: 5,\n",
       " 202209: 9,\n",
       " 202213: 13,\n",
       " 202217: 17,\n",
       " 202222: 22,\n",
       " 202226: 26,\n",
       " 202231: 31,\n",
       " 202235: 35,\n",
       " 202239: 39,\n",
       " 202244: 44,\n",
       " 202248: 48,\n",
       " 202252: 52,\n",
       " 202305: 5,\n",
       " 202309: 9,\n",
       " 202313: 13,\n",
       " 202318: 18,\n",
       " 202322: 22,\n",
       " 202326: 26,\n",
       " 202331: 31,\n",
       " 202335: 35,\n",
       " 202339: 39,\n",
       " 202344: 44,\n",
       " 202352: 52}"
      ]
     },
     "execution_count": 20,
     "metadata": {},
     "output_type": "execute_result"
    }
   ],
   "source": [
    "semanas = sorted(list(forecast_df['SemanaVenta'].unique()))\n",
    "semanas = {semanas[x]: int(str(semanas[x])[4:]) for x in range(len(semanas))}\n",
    "semanas"
   ]
  },
  {
   "cell_type": "code",
   "execution_count": 21,
   "metadata": {},
   "outputs": [],
   "source": [
    "forecast_df['Periodo'] = forecast_df['SemanaVenta'].map(semanas)"
   ]
  },
  {
   "cell_type": "code",
   "execution_count": 22,
   "metadata": {},
   "outputs": [],
   "source": [
    "forecast_df = forecast_df.groupby(['STOCK', 'Periodo'])[['Pron�stico']].sum().reset_index().rename(columns={'Pron�stico':'qty'})"
   ]
  },
  {
   "cell_type": "code",
   "execution_count": 23,
   "metadata": {},
   "outputs": [],
   "source": [
    "forecast_df['TipoDato'] = 'Forecast'\n",
    "arrivos_df['TipoDato'] = 'Arrivals'\n",
    "existencias_gmb_df['TipoDato'] = 'IOH_Inicial'"
   ]
  },
  {
   "cell_type": "code",
   "execution_count": 24,
   "metadata": {},
   "outputs": [],
   "source": [
    "data_df = pd.concat([forecast_df, arrivos_df, existencias_gmb_df]).pivot_table(index=['STOCK', 'TipoDato'], columns='Periodo', values='qty', aggfunc=np.sum).fillna(0.0)"
   ]
  },
  {
   "cell_type": "code",
   "execution_count": 25,
   "metadata": {},
   "outputs": [
    {
     "data": {
      "text/html": [
       "<div>\n",
       "<style scoped>\n",
       "    .dataframe tbody tr th:only-of-type {\n",
       "        vertical-align: middle;\n",
       "    }\n",
       "\n",
       "    .dataframe tbody tr th {\n",
       "        vertical-align: top;\n",
       "    }\n",
       "\n",
       "    .dataframe thead tr th {\n",
       "        text-align: left;\n",
       "    }\n",
       "</style>\n",
       "<table border=\"1\" class=\"dataframe\">\n",
       "  <thead>\n",
       "    <tr>\n",
       "      <th></th>\n",
       "      <th>Periodo</th>\n",
       "      <th>105-8028</th>\n",
       "    </tr>\n",
       "    <tr>\n",
       "      <th></th>\n",
       "      <th></th>\n",
       "      <th>Forecast</th>\n",
       "    </tr>\n",
       "  </thead>\n",
       "  <tbody>\n",
       "    <tr>\n",
       "      <th>0</th>\n",
       "      <td>0</td>\n",
       "      <td>0.00</td>\n",
       "    </tr>\n",
       "    <tr>\n",
       "      <th>1</th>\n",
       "      <td>2</td>\n",
       "      <td>0.00</td>\n",
       "    </tr>\n",
       "    <tr>\n",
       "      <th>2</th>\n",
       "      <td>3</td>\n",
       "      <td>0.00</td>\n",
       "    </tr>\n",
       "    <tr>\n",
       "      <th>3</th>\n",
       "      <td>4</td>\n",
       "      <td>0.00</td>\n",
       "    </tr>\n",
       "    <tr>\n",
       "      <th>4</th>\n",
       "      <td>5</td>\n",
       "      <td>757.04</td>\n",
       "    </tr>\n",
       "    <tr>\n",
       "      <th>5</th>\n",
       "      <td>9</td>\n",
       "      <td>723.17</td>\n",
       "    </tr>\n",
       "    <tr>\n",
       "      <th>6</th>\n",
       "      <td>10</td>\n",
       "      <td>0.00</td>\n",
       "    </tr>\n",
       "    <tr>\n",
       "      <th>7</th>\n",
       "      <td>11</td>\n",
       "      <td>0.00</td>\n",
       "    </tr>\n",
       "    <tr>\n",
       "      <th>8</th>\n",
       "      <td>12</td>\n",
       "      <td>0.00</td>\n",
       "    </tr>\n",
       "    <tr>\n",
       "      <th>9</th>\n",
       "      <td>13</td>\n",
       "      <td>666.85</td>\n",
       "    </tr>\n",
       "    <tr>\n",
       "      <th>10</th>\n",
       "      <td>14</td>\n",
       "      <td>0.00</td>\n",
       "    </tr>\n",
       "    <tr>\n",
       "      <th>11</th>\n",
       "      <td>15</td>\n",
       "      <td>0.00</td>\n",
       "    </tr>\n",
       "    <tr>\n",
       "      <th>12</th>\n",
       "      <td>16</td>\n",
       "      <td>0.00</td>\n",
       "    </tr>\n",
       "    <tr>\n",
       "      <th>13</th>\n",
       "      <td>17</td>\n",
       "      <td>304.31</td>\n",
       "    </tr>\n",
       "    <tr>\n",
       "      <th>14</th>\n",
       "      <td>18</td>\n",
       "      <td>300.94</td>\n",
       "    </tr>\n",
       "    <tr>\n",
       "      <th>15</th>\n",
       "      <td>19</td>\n",
       "      <td>0.00</td>\n",
       "    </tr>\n",
       "    <tr>\n",
       "      <th>16</th>\n",
       "      <td>22</td>\n",
       "      <td>743.24</td>\n",
       "    </tr>\n",
       "    <tr>\n",
       "      <th>17</th>\n",
       "      <td>26</td>\n",
       "      <td>714.61</td>\n",
       "    </tr>\n",
       "    <tr>\n",
       "      <th>18</th>\n",
       "      <td>31</td>\n",
       "      <td>706.48</td>\n",
       "    </tr>\n",
       "    <tr>\n",
       "      <th>19</th>\n",
       "      <td>35</td>\n",
       "      <td>658.91</td>\n",
       "    </tr>\n",
       "    <tr>\n",
       "      <th>20</th>\n",
       "      <td>39</td>\n",
       "      <td>618.78</td>\n",
       "    </tr>\n",
       "    <tr>\n",
       "      <th>21</th>\n",
       "      <td>44</td>\n",
       "      <td>750.87</td>\n",
       "    </tr>\n",
       "    <tr>\n",
       "      <th>22</th>\n",
       "      <td>48</td>\n",
       "      <td>666.72</td>\n",
       "    </tr>\n",
       "    <tr>\n",
       "      <th>23</th>\n",
       "      <td>52</td>\n",
       "      <td>727.37</td>\n",
       "    </tr>\n",
       "  </tbody>\n",
       "</table>\n",
       "</div>"
      ],
      "text/plain": [
       "   Periodo 105-8028\n",
       "           Forecast\n",
       "0        0     0.00\n",
       "1        2     0.00\n",
       "2        3     0.00\n",
       "3        4     0.00\n",
       "4        5   757.04\n",
       "5        9   723.17\n",
       "6       10     0.00\n",
       "7       11     0.00\n",
       "8       12     0.00\n",
       "9       13   666.85\n",
       "10      14     0.00\n",
       "11      15     0.00\n",
       "12      16     0.00\n",
       "13      17   304.31\n",
       "14      18   300.94\n",
       "15      19     0.00\n",
       "16      22   743.24\n",
       "17      26   714.61\n",
       "18      31   706.48\n",
       "19      35   658.91\n",
       "20      39   618.78\n",
       "21      44   750.87\n",
       "22      48   666.72\n",
       "23      52   727.37"
      ]
     },
     "execution_count": 25,
     "metadata": {},
     "output_type": "execute_result"
    }
   ],
   "source": [
    "data_df.loc[('105-8028','Forecast')].reset_index()"
   ]
  },
  {
   "cell_type": "markdown",
   "metadata": {},
   "source": [
    "<h3>Usar simulador</h3>"
   ]
  },
  {
   "cell_type": "code",
   "execution_count": 73,
   "metadata": {},
   "outputs": [],
   "source": [
    "\n",
    "from sim_utils.events import Event, EventType\n",
    "from sim_utils.simulators import ReviewPeriodicSimpleSimulator\n"
   ]
  },
  {
   "cell_type": "code",
   "execution_count": 74,
   "metadata": {},
   "outputs": [],
   "source": [
    "clock = list(data_df.loc[('105-8028','Forecast')].index)\n",
    "forecast = list(data_df.loc[('105-8028','Forecast')])\n",
    "arrivals = list(data_df.loc[('105-8028','Arrivals')])\n",
    "initial_ioh = data_df.loc[('105-8028','IOH_Inicial')][0]\n",
    "week_average_demand = sum(forecast)/52\n",
    "week_stdevit_demand = np.std(forecast + [0 for i in range(52 - len(forecast))])\n",
    "review_period = 2\n",
    "kCSL = 1.64\n",
    "lt = 12\n",
    "D_Lt_R = week_average_demand * (review_period + lt)\n",
    "S_Lt_R = ((week_stdevit_demand**2) * (review_period + lt))**0.5\n",
    "ss = kCSL* S_Lt_R\n",
    "oul = D_Lt_R + ss\n"
   ]
  },
  {
   "cell_type": "code",
   "execution_count": 75,
   "metadata": {},
   "outputs": [
    {
     "name": "stdout",
     "output_type": "stream",
     "text": [
      "\tReview Period\n",
      "\tordenando 2286.4239878248445\n",
      "1 : Inventario on hand: 0 Backorder: -260.0 ordered: 4270.4239878248445 inventory_position 4010.4239878248445\n",
      "2 : Inventario on hand: 0 Backorder: -260.0 ordered: 4270.4239878248445 inventory_position 4010.4239878248445\n",
      "\tLlegada por 1984.0\n",
      "\tReview Period\n",
      "3 : Inventario on hand: 1724.0 Backorder: 0 ordered: 2286.4239878248445 inventory_position 4010.4239878248445\n",
      "4 : Inventario on hand: 1724.0 Backorder: 0 ordered: 2286.4239878248445 inventory_position 4010.4239878248445\n",
      "\tReview Period\n",
      "5 : Inventario on hand: 1724.0 Backorder: 0 ordered: 2286.4239878248445 inventory_position 4010.4239878248445\n",
      "\tatendiendo venta por 757.04 con inventario de 1724.0\n",
      "6 : Inventario on hand: 966.96 Backorder: 0 ordered: 2286.4239878248445 inventory_position 3253.3839878248446\n",
      "\tReview Period\n",
      "\tordenando 757.04\n",
      "7 : Inventario on hand: 966.96 Backorder: 0 ordered: 3043.4639878248445 inventory_position 4010.4239878248445\n",
      "8 : Inventario on hand: 966.96 Backorder: 0 ordered: 3043.4639878248445 inventory_position 4010.4239878248445\n",
      "\tReview Period\n",
      "9 : Inventario on hand: 966.96 Backorder: 0 ordered: 3043.4639878248445 inventory_position 4010.4239878248445\n",
      "\tatendiendo venta por 723.1700000000001 con inventario de 966.96\n",
      "10 : Inventario on hand: 243.78999999999996 Backorder: 0 ordered: 3043.4639878248445 inventory_position 3287.2539878248444\n",
      "\tReview Period\n",
      "\tordenando 723.1700000000001\n",
      "11 : Inventario on hand: 243.78999999999996 Backorder: 0 ordered: 3766.6339878248446 inventory_position 4010.4239878248445\n",
      "12 : Inventario on hand: 243.78999999999996 Backorder: 0 ordered: 3766.6339878248446 inventory_position 4010.4239878248445\n",
      "\tLlegada por 2286.4239878248445\n",
      "\tReview Period\n",
      "13 : Inventario on hand: 2530.2139878248445 Backorder: 0 ordered: 1480.21 inventory_position 4010.4239878248445\n",
      "\tatendiendo venta por 666.85 con inventario de 2530.2139878248445\n",
      "14 : Inventario on hand: 1863.3639878248446 Backorder: 0 ordered: 1480.21 inventory_position 3343.5739878248446\n",
      "\tReview Period\n",
      "\tordenando 666.8499999999999\n",
      "15 : Inventario on hand: 1863.3639878248446 Backorder: 0 ordered: 2147.06 inventory_position 4010.4239878248445\n",
      "16 : Inventario on hand: 1863.3639878248446 Backorder: 0 ordered: 2147.06 inventory_position 4010.4239878248445\n",
      "\tReview Period\n",
      "17 : Inventario on hand: 1863.3639878248446 Backorder: 0 ordered: 2147.06 inventory_position 4010.4239878248445\n",
      "\tatendiendo venta por 304.31 con inventario de 1863.3639878248446\n",
      "18 : Inventario on hand: 1559.0539878248446 Backorder: 0 ordered: 2147.06 inventory_position 3706.1139878248446\n",
      "\tatendiendo venta por 300.94 con inventario de 1559.0539878248446\n",
      "\tLlegada por 757.04\n",
      "\tReview Period\n",
      "\tordenando 605.25\n",
      "19 : Inventario on hand: 2015.1539878248445 Backorder: 0 ordered: 1995.27 inventory_position 4010.4239878248445\n",
      "20 : Inventario on hand: 2015.1539878248445 Backorder: 0 ordered: 1995.27 inventory_position 4010.4239878248445\n",
      "\tReview Period\n",
      "21 : Inventario on hand: 2015.1539878248445 Backorder: 0 ordered: 1995.27 inventory_position 4010.4239878248445\n",
      "22 : Inventario on hand: 2015.1539878248445 Backorder: 0 ordered: 1995.27 inventory_position 4010.4239878248445\n",
      "\tatendiendo venta por 743.24 con inventario de 2015.1539878248445\n",
      "\tLlegada por 723.1700000000001\n",
      "\tReview Period\n",
      "\tordenando 743.2399999999998\n",
      "23 : Inventario on hand: 1995.0839878248446 Backorder: 0 ordered: 2015.3399999999997 inventory_position 4010.4239878248445\n",
      "24 : Inventario on hand: 1995.0839878248446 Backorder: 0 ordered: 2015.3399999999997 inventory_position 4010.4239878248445\n",
      "\tReview Period\n",
      "25 : Inventario on hand: 1995.0839878248446 Backorder: 0 ordered: 2015.3399999999997 inventory_position 4010.4239878248445\n",
      "26 : Inventario on hand: 1995.0839878248446 Backorder: 0 ordered: 2015.3399999999997 inventory_position 4010.4239878248445\n",
      "\tatendiendo venta por 714.61 con inventario de 1995.0839878248446\n",
      "\tLlegada por 666.8499999999999\n",
      "\tReview Period\n",
      "\tordenando 714.6100000000001\n",
      "27 : Inventario on hand: 1947.3239878248446 Backorder: 0 ordered: 2063.1 inventory_position 4010.4239878248445\n",
      "28 : Inventario on hand: 1947.3239878248446 Backorder: 0 ordered: 2063.1 inventory_position 4010.4239878248445\n",
      "\tReview Period\n",
      "29 : Inventario on hand: 1947.3239878248446 Backorder: 0 ordered: 2063.1 inventory_position 4010.4239878248445\n",
      "30 : Inventario on hand: 1947.3239878248446 Backorder: 0 ordered: 2063.1 inventory_position 4010.4239878248445\n",
      "\tLlegada por 605.25\n",
      "\tReview Period\n",
      "31 : Inventario on hand: 2552.5739878248446 Backorder: 0 ordered: 1457.85 inventory_position 4010.4239878248445\n",
      "\tatendiendo venta por 706.48 con inventario de 2552.5739878248446\n",
      "32 : Inventario on hand: 1846.0939878248446 Backorder: 0 ordered: 1457.85 inventory_position 3303.9439878248445\n",
      "\tReview Period\n",
      "\tordenando 706.48\n",
      "33 : Inventario on hand: 1846.0939878248446 Backorder: 0 ordered: 2164.33 inventory_position 4010.4239878248445\n",
      "34 : Inventario on hand: 1846.0939878248446 Backorder: 0 ordered: 2164.33 inventory_position 4010.4239878248445\n",
      "\tLlegada por 743.2399999999998\n",
      "\tReview Period\n",
      "35 : Inventario on hand: 2589.3339878248444 Backorder: 0 ordered: 1421.0900000000001 inventory_position 4010.4239878248445\n",
      "\tatendiendo venta por 658.91 con inventario de 2589.3339878248444\n",
      "36 : Inventario on hand: 1930.4239878248445 Backorder: 0 ordered: 1421.0900000000001 inventory_position 3351.5139878248447\n",
      "\tReview Period\n",
      "\tordenando 658.9099999999999\n",
      "37 : Inventario on hand: 1930.4239878248445 Backorder: 0 ordered: 2080.0 inventory_position 4010.4239878248445\n",
      "38 : Inventario on hand: 1930.4239878248445 Backorder: 0 ordered: 2080.0 inventory_position 4010.4239878248445\n",
      "\tLlegada por 714.6100000000001\n",
      "\tReview Period\n",
      "39 : Inventario on hand: 2645.0339878248446 Backorder: 0 ordered: 1365.3899999999999 inventory_position 4010.4239878248445\n",
      "\tatendiendo venta por 618.78 con inventario de 2645.0339878248446\n",
      "40 : Inventario on hand: 2026.2539878248447 Backorder: 0 ordered: 1365.3899999999999 inventory_position 3391.6439878248448\n",
      "\tReview Period\n",
      "\tordenando 618.7799999999997\n",
      "41 : Inventario on hand: 2026.2539878248447 Backorder: 0 ordered: 1984.1699999999996 inventory_position 4010.4239878248445\n",
      "42 : Inventario on hand: 2026.2539878248447 Backorder: 0 ordered: 1984.1699999999996 inventory_position 4010.4239878248445\n",
      "\tReview Period\n",
      "43 : Inventario on hand: 2026.2539878248447 Backorder: 0 ordered: 1984.1699999999996 inventory_position 4010.4239878248445\n",
      "44 : Inventario on hand: 2026.2539878248447 Backorder: 0 ordered: 1984.1699999999996 inventory_position 4010.4239878248445\n",
      "\tatendiendo venta por 750.87 con inventario de 2026.2539878248447\n",
      "\tLlegada por 706.48\n",
      "\tReview Period\n",
      "\tordenando 750.8700000000003\n",
      "45 : Inventario on hand: 1981.8639878248446 Backorder: 0 ordered: 2028.56 inventory_position 4010.4239878248445\n",
      "46 : Inventario on hand: 1981.8639878248446 Backorder: 0 ordered: 2028.56 inventory_position 4010.4239878248445\n",
      "\tReview Period\n",
      "47 : Inventario on hand: 1981.8639878248446 Backorder: 0 ordered: 2028.56 inventory_position 4010.4239878248445\n",
      "48 : Inventario on hand: 1981.8639878248446 Backorder: 0 ordered: 2028.56 inventory_position 4010.4239878248445\n",
      "\tatendiendo venta por 666.72 con inventario de 1981.8639878248446\n",
      "\tLlegada por 658.9099999999999\n",
      "\tReview Period\n",
      "\tordenando 666.7200000000003\n",
      "49 : Inventario on hand: 1974.0539878248444 Backorder: 0 ordered: 2036.3700000000003 inventory_position 4010.4239878248445\n",
      "50 : Inventario on hand: 1974.0539878248444 Backorder: 0 ordered: 2036.3700000000003 inventory_position 4010.4239878248445\n",
      "\tReview Period\n",
      "51 : Inventario on hand: 1974.0539878248444 Backorder: 0 ordered: 2036.3700000000003 inventory_position 4010.4239878248445\n",
      "52 : Inventario on hand: 1974.0539878248444 Backorder: 0 ordered: 2036.3700000000003 inventory_position 4010.4239878248445\n",
      "\tatendiendo venta por 727.37 con inventario de 1974.0539878248444\n",
      "\tLlegada por 618.7799999999997\n",
      "\tReview Period\n",
      "\tordenando 727.3699999999999\n",
      "53 : Inventario on hand: 1865.463987824844 Backorder: 0 ordered: 2144.9600000000005 inventory_position 4010.4239878248445\n",
      "54 : Inventario on hand: 1865.463987824844 Backorder: 0 ordered: 2144.9600000000005 inventory_position 4010.4239878248445\n",
      "\tReview Period\n",
      "55 : Inventario on hand: 1865.463987824844 Backorder: 0 ordered: 2144.9600000000005 inventory_position 4010.4239878248445\n",
      "56 : Inventario on hand: 1865.463987824844 Backorder: 0 ordered: 2144.9600000000005 inventory_position 4010.4239878248445\n",
      "\tLlegada por 750.8700000000003\n",
      "\tReview Period\n",
      "57 : Inventario on hand: 2616.3339878248444 Backorder: 0 ordered: 1394.0900000000001 inventory_position 4010.4239878248445\n",
      "58 : Inventario on hand: 2616.3339878248444 Backorder: 0 ordered: 1394.0900000000001 inventory_position 4010.4239878248445\n",
      "\tReview Period\n",
      "59 : Inventario on hand: 2616.3339878248444 Backorder: 0 ordered: 1394.0900000000001 inventory_position 4010.4239878248445\n",
      "60 : Inventario on hand: 2616.3339878248444 Backorder: 0 ordered: 1394.0900000000001 inventory_position 4010.4239878248445\n",
      "\tLlegada por 666.7200000000003\n",
      "\tReview Period\n",
      "61 : Inventario on hand: 3283.0539878248446 Backorder: 0 ordered: 727.3699999999999 inventory_position 4010.4239878248445\n",
      "62 : Inventario on hand: 3283.0539878248446 Backorder: 0 ordered: 727.3699999999999 inventory_position 4010.4239878248445\n",
      "\tReview Period\n",
      "63 : Inventario on hand: 3283.0539878248446 Backorder: 0 ordered: 727.3699999999999 inventory_position 4010.4239878248445\n",
      "64 : Inventario on hand: 3283.0539878248446 Backorder: 0 ordered: 727.3699999999999 inventory_position 4010.4239878248445\n",
      "\tLlegada por 727.3699999999999\n",
      "\tReview Period\n",
      "65 : Inventario on hand: 4010.4239878248445 Backorder: 0 ordered: 0.0 inventory_position 4010.4239878248445\n",
      "66 : Inventario on hand: 4010.4239878248445 Backorder: 0 ordered: 0.0 inventory_position 4010.4239878248445\n",
      "\tReview Period\n",
      "67 : Inventario on hand: 4010.4239878248445 Backorder: 0 ordered: 0.0 inventory_position 4010.4239878248445\n",
      "68 : Inventario on hand: 4010.4239878248445 Backorder: 0 ordered: 0.0 inventory_position 4010.4239878248445\n",
      "\tReview Period\n",
      "69 : Inventario on hand: 4010.4239878248445 Backorder: 0 ordered: 0.0 inventory_position 4010.4239878248445\n",
      "70 : Inventario on hand: 4010.4239878248445 Backorder: 0 ordered: 0.0 inventory_position 4010.4239878248445\n",
      "\tReview Period\n",
      "71 : Inventario on hand: 4010.4239878248445 Backorder: 0 ordered: 0.0 inventory_position 4010.4239878248445\n",
      "72 : Inventario on hand: 4010.4239878248445 Backorder: 0 ordered: 0.0 inventory_position 4010.4239878248445\n",
      "\tReview Period\n",
      "73 : Inventario on hand: 4010.4239878248445 Backorder: 0 ordered: 0.0 inventory_position 4010.4239878248445\n",
      "74 : Inventario on hand: 4010.4239878248445 Backorder: 0 ordered: 0.0 inventory_position 4010.4239878248445\n",
      "\tReview Period\n",
      "75 : Inventario on hand: 4010.4239878248445 Backorder: 0 ordered: 0.0 inventory_position 4010.4239878248445\n",
      "76 : Inventario on hand: 4010.4239878248445 Backorder: 0 ordered: 0.0 inventory_position 4010.4239878248445\n",
      "\tReview Period\n",
      "77 : Inventario on hand: 4010.4239878248445 Backorder: 0 ordered: 0.0 inventory_position 4010.4239878248445\n",
      "78 : Inventario on hand: 4010.4239878248445 Backorder: 0 ordered: 0.0 inventory_position 4010.4239878248445\n",
      "\tReview Period\n",
      "79 : Inventario on hand: 4010.4239878248445 Backorder: 0 ordered: 0.0 inventory_position 4010.4239878248445\n",
      "80 : Inventario on hand: 4010.4239878248445 Backorder: 0 ordered: 0.0 inventory_position 4010.4239878248445\n",
      "\tReview Period\n",
      "81 : Inventario on hand: 4010.4239878248445 Backorder: 0 ordered: 0.0 inventory_position 4010.4239878248445\n",
      "82 : Inventario on hand: 4010.4239878248445 Backorder: 0 ordered: 0.0 inventory_position 4010.4239878248445\n",
      "\tReview Period\n",
      "83 : Inventario on hand: 4010.4239878248445 Backorder: 0 ordered: 0.0 inventory_position 4010.4239878248445\n",
      "84 : Inventario on hand: 4010.4239878248445 Backorder: 0 ordered: 0.0 inventory_position 4010.4239878248445\n",
      "\tReview Period\n",
      "85 : Inventario on hand: 4010.4239878248445 Backorder: 0 ordered: 0.0 inventory_position 4010.4239878248445\n",
      "86 : Inventario on hand: 4010.4239878248445 Backorder: 0 ordered: 0.0 inventory_position 4010.4239878248445\n",
      "\tReview Period\n",
      "87 : Inventario on hand: 4010.4239878248445 Backorder: 0 ordered: 0.0 inventory_position 4010.4239878248445\n",
      "88 : Inventario on hand: 4010.4239878248445 Backorder: 0 ordered: 0.0 inventory_position 4010.4239878248445\n",
      "\tReview Period\n",
      "89 : Inventario on hand: 4010.4239878248445 Backorder: 0 ordered: 0.0 inventory_position 4010.4239878248445\n",
      "90 : Inventario on hand: 4010.4239878248445 Backorder: 0 ordered: 0.0 inventory_position 4010.4239878248445\n",
      "\tReview Period\n",
      "91 : Inventario on hand: 4010.4239878248445 Backorder: 0 ordered: 0.0 inventory_position 4010.4239878248445\n",
      "92 : Inventario on hand: 4010.4239878248445 Backorder: 0 ordered: 0.0 inventory_position 4010.4239878248445\n",
      "\tReview Period\n",
      "93 : Inventario on hand: 4010.4239878248445 Backorder: 0 ordered: 0.0 inventory_position 4010.4239878248445\n",
      "94 : Inventario on hand: 4010.4239878248445 Backorder: 0 ordered: 0.0 inventory_position 4010.4239878248445\n",
      "\tReview Period\n",
      "95 : Inventario on hand: 4010.4239878248445 Backorder: 0 ordered: 0.0 inventory_position 4010.4239878248445\n",
      "96 : Inventario on hand: 4010.4239878248445 Backorder: 0 ordered: 0.0 inventory_position 4010.4239878248445\n",
      "\tReview Period\n",
      "97 : Inventario on hand: 4010.4239878248445 Backorder: 0 ordered: 0.0 inventory_position 4010.4239878248445\n",
      "98 : Inventario on hand: 4010.4239878248445 Backorder: 0 ordered: 0.0 inventory_position 4010.4239878248445\n",
      "\tReview Period\n",
      "99 : Inventario on hand: 4010.4239878248445 Backorder: 0 ordered: 0.0 inventory_position 4010.4239878248445\n",
      "100 : Inventario on hand: 4010.4239878248445 Backorder: 0 ordered: 0.0 inventory_position 4010.4239878248445\n",
      "\tReview Period\n",
      "101 : Inventario on hand: 4010.4239878248445 Backorder: 0 ordered: 0.0 inventory_position 4010.4239878248445\n",
      "102 : Inventario on hand: 4010.4239878248445 Backorder: 0 ordered: 0.0 inventory_position 4010.4239878248445\n",
      "\tReview Period\n",
      "103 : Inventario on hand: 4010.4239878248445 Backorder: 0 ordered: 0.0 inventory_position 4010.4239878248445\n",
      "104 : Inventario on hand: 4010.4239878248445 Backorder: 0 ordered: 0.0 inventory_position 4010.4239878248445\n",
      "\tReview Period\n",
      "105 : Inventario on hand: 4010.4239878248445 Backorder: 0 ordered: 0.0 inventory_position 4010.4239878248445\n",
      "106 : Inventario on hand: 4010.4239878248445 Backorder: 0 ordered: 0.0 inventory_position 4010.4239878248445\n",
      "\tReview Period\n",
      "107 : Inventario on hand: 4010.4239878248445 Backorder: 0 ordered: 0.0 inventory_position 4010.4239878248445\n",
      "108 : Inventario on hand: 4010.4239878248445 Backorder: 0 ordered: 0.0 inventory_position 4010.4239878248445\n",
      "\tReview Period\n",
      "109 : Inventario on hand: 4010.4239878248445 Backorder: 0 ordered: 0.0 inventory_position 4010.4239878248445\n",
      "110 : Inventario on hand: 4010.4239878248445 Backorder: 0 ordered: 0.0 inventory_position 4010.4239878248445\n"
     ]
    }
   ],
   "source": [
    "sim = ReviewPeriodicSimpleSimulator(initial_inventory=initial_ioh, lead_time=12, order_up_to_level=oul, review_period=review_period)\n",
    "\n",
    "for i in range(len(forecast)):\n",
    "    if forecast[i]>0:\n",
    "        sim.event_queue.add_event(Event(clock=clock[i], type_of_event=EventType.DEMAND, event_name=f'Forecast {i}', document={'qty':forecast[i]}))\n",
    "    if arrivals[i]>0:\n",
    "        sim.event_queue.add_event(Event(clock=clock[i], type_of_event=EventType.ARRIVAL, event_name=f'Scheduled arrival {i}', document={'qty':arrivals[i]}))\n",
    "        sim.quantity_ordered += arrivals[i]\n",
    "\n",
    "for i in range(110):\n",
    "    sim.advance_time()\n"
   ]
  },
  {
   "cell_type": "code",
   "execution_count": 70,
   "metadata": {},
   "outputs": [],
   "source": [
    "stats = sim.statistics_dataframe"
   ]
  },
  {
   "cell_type": "code",
   "execution_count": 45,
   "metadata": {},
   "outputs": [],
   "source": [
    "import matplotlib.pyplot as plt"
   ]
  },
  {
   "cell_type": "code",
   "execution_count": 72,
   "metadata": {},
   "outputs": [
    {
     "data": {
      "image/png": "[encoded data removed]",
      "text/plain": [
       "<Figure size 1440x480 with 1 Axes>"
      ]
     },
     "metadata": {
      "needs_background": "light"
     },
     "output_type": "display_data"
    }
   ],
   "source": [
    "x = stats['clock']\n",
    "plt.figure(dpi=96, figsize=(15,5))\n",
    "plt.plot(x,stats['oul'], label='oul')\n",
    "plt.bar(x, stats['Inventory_on_hand'], label='ioh')\n",
    "plt.plot(x, stats['backorder'], label='backorder')\n",
    "plt.plot(x, stats['Quantity_ordered'], label='ordered')\n",
    "plt.plot(x, stats['inventory_position'], label='IP')\n",
    "plt.legend()\n",
    "plt.show()"
   ]
  }
 ],
 "metadata": {
  "interpreter": {
   "hash": "2a2e8cfdbedb8ac9475e44ae526dbc3b58212f99b5841486c5ffe5f7e529ffa6"
  },
  "kernelspec": {
   "display_name": "Python 3.9.2 64-bit",
   "language": "python",
   "name": "python3"
  },
  "language_info": {
   "codemirror_mode": {
    "name": "ipython",
    "version": 3
   },
   "file_extension": ".py",
   "mimetype": "text/x-python",
   "name": "python",
   "nbconvert_exporter": "python",
   "pygments_lexer": "ipython3",
   "version": "3.9.2"
  },
  "orig_nbformat": 4
 },
 "nbformat": 4,
 "nbformat_minor": 2
}
