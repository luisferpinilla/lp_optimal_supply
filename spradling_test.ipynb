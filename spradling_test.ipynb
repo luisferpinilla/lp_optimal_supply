{
 "cells": [
  {
   "cell_type": "markdown",
   "metadata": {},
   "source": [
    "<h1>Prueba de simulador</h1>\n",
    "<p>Esta prueba consiste en usar el simulador para conocer los momentos en los que se obtendrían los pedidos por parte de Alemania, los momentos en los que se facturarían y el inventario proyectado en la bodeba de Alemania</p>"
   ]
  },
  {
   "cell_type": "code",
   "execution_count": 1,
   "metadata": {},
   "outputs": [],
   "source": [
    "import pandas as pd\n",
    "import numpy as np\n",
    "from sim_utils.events import EventType, Event\n",
    "from datetime import datetime\n",
    "pd.options.display.max_columns = None"
   ]
  },
  {
   "cell_type": "markdown",
   "metadata": {},
   "source": [
    "<h3>importar penplano</h3>"
   ]
  },
  {
   "cell_type": "code",
   "execution_count": 2,
   "metadata": {},
   "outputs": [],
   "source": [
    "# importar penplano\n",
    "penplano_path = 'V:\\\\2022\\\\PEND PLANO ENERO 3.xlsx'\n",
    "pendiente_dtype = {'Cliente': object, 'Producto': object, 'Sc': object}\n",
    "pendiente_colums = ['Pais', 'Mdo', 'Cliente', 'Desp.R.APS',\n",
    "                    'Pendiente', 'Und', 'F.Ingreso', 'Producto', 'Stock']\n",
    "pendiente_df = [\n",
    "    pd.read_excel(penplano_path, sheet_name='PLANOCO', dtype=pendiente_dtype)[pendiente_colums],\n",
    "    pd.read_excel(penplano_path, sheet_name='PLANOCR', dtype=pendiente_dtype)[pendiente_colums]]\n",
    "\n",
    "\n",
    "# pd.read_excel(penplano_path, sheet_name='PLANONAL', dtype=pendiente_dtype)[pendiente_colums]]\n",
    "\n",
    "# concatenar pendiente de ambas plantas\n",
    "pendiente_df = pd.concat(pendiente_df)\n",
    "\n",
    "# remover filas vacias\n",
    "pendiente_df = pendiente_df[~pendiente_df['Pais'].isna()]\n",
    "\n",
    "# Dejar columnas relevantes\n",
    "pendiente_df = pendiente_df[pendiente_colums]\n",
    "# Poner semana requerida\n",
    "pendiente_df['SemanaRequerida'] = pendiente_df['Desp.R.APS'].dt.strftime(\"%Y%V\").astype('int')\n",
    "# dejar el pendiente organizado a la semana actual\n",
    "pendiente_df['SemanaRequerida'] = pendiente_df['SemanaRequerida'].apply(lambda x: x if x >= 202152 else 202152)\n",
    "# Sacar el pendiente para alemania\n",
    "pendiente_df = pendiente_df[pendiente_df['Cliente']==100459].groupby(['Stock', 'SemanaRequerida'])[['Pendiente']].sum().reset_index()"
   ]
  },
  {
   "cell_type": "code",
   "execution_count": 3,
   "metadata": {},
   "outputs": [
    {
     "data": {
      "text/plain": [
       "{202152: 10,\n",
       " 202201: 11,\n",
       " 202202: 12,\n",
       " 202203: 13,\n",
       " 202204: 14,\n",
       " 202205: 15,\n",
       " 202206: 16,\n",
       " 202207: 17,\n",
       " 202208: 18,\n",
       " 202252: 19}"
      ]
     },
     "execution_count": 3,
     "metadata": {},
     "output_type": "execute_result"
    }
   ],
   "source": [
    "semanas = sorted(list(pendiente_df['SemanaRequerida'].unique()))\n",
    "semanas = {semanas[x]:x+10 for x in range(len(semanas))}\n",
    "semanas"
   ]
  },
  {
   "cell_type": "code",
   "execution_count": 4,
   "metadata": {},
   "outputs": [],
   "source": [
    "pendiente_df['Periodo'] = pendiente_df['SemanaRequerida'].map(semanas)"
   ]
  },
  {
   "cell_type": "code",
   "execution_count": 5,
   "metadata": {},
   "outputs": [],
   "source": [
    "pendiente_df = pendiente_df.groupby(['Stock', 'Periodo'])[['Pendiente']].sum().reset_index()"
   ]
  },
  {
   "cell_type": "markdown",
   "metadata": {},
   "source": [
    "<h3>Importar existencias y pendientes comerciales en bodega de Alemania</h3>"
   ]
  },
  {
   "cell_type": "code",
   "execution_count": 50,
   "metadata": {},
   "outputs": [],
   "source": [
    "# importar existencias en bodega destino\n",
    "existencias_gmb_path = 'D:\\\\OneDrive - Proquinal\\\\plan_abactecimiento\\\\suggested_program\\\\Germany Inventory Report 22.12.2021.xlsx'\n",
    "existencias_gmb_df = pd.read_excel(existencias_gmb_path)\n",
    "existencias_gmb_df = existencias_gmb_df.groupby(['Stock Code (CU)'])[['Total on stock', 'Commited/Sold']].sum().reset_index()\n",
    "existencias_gmb_df['qty'] = existencias_gmb_df['Total on stock']-existencias_gmb_df['Commited/Sold']\n",
    "existencias_gmb_df = existencias_gmb_df.groupby(['Stock Code (CU)'])['qty'].sum().reset_index().rename(columns={'Stock Code (CU)':'STOCK'})\n",
    "existencias_gmb_df['Periodo'] = 0\n"
   ]
  },
  {
   "cell_type": "markdown",
   "metadata": {},
   "source": [
    "<h3>Transitos actuales o arrivals</h3>"
   ]
  },
  {
   "cell_type": "code",
   "execution_count": 9,
   "metadata": {},
   "outputs": [],
   "source": [
    "etapas_path = 'Y:\\\\LISTADOS\\\\1. Reportes_consolidados\\\\Reportes_20220103.xlsx'\n",
    "etapas_df = pd.read_excel(etapas_path, sheet_name='Etapas')\n",
    "etapas_df['CANTIDAD DESPACHADA'] = etapas_df['CANTIDAD DESPACHADA'].str.replace(',', '')\n",
    "etapas_df['CANTIDAD DESPACHADA'] = etapas_df['CANTIDAD DESPACHADA'].astype('float')\n",
    "etapas_df = etapas_df[etapas_df['COD_CLIENTE']==100459]\n",
    "etapas_df['SemanaDespacho'] = pd.to_datetime(etapas_df['FECHA DE FACTURA'])\n",
    "etapas_df['FechaArrivo'] =  etapas_df['SemanaDespacho'] +pd.DateOffset(days=35)\n",
    "etapas_df['Periodo'] = etapas_df['FechaArrivo'].dt.strftime(\"%Y%V\").astype('int')\n",
    "etapas_df = etapas_df.groupby(['STOCK', 'Periodo'])[['CANTIDAD DESPACHADA']].sum().reset_index()"
   ]
  },
  {
   "cell_type": "code",
   "execution_count": 10,
   "metadata": {},
   "outputs": [
    {
     "data": {
      "text/plain": [
       "{202201: 2, 202202: 3, 202203: 4, 202204: 5}"
      ]
     },
     "execution_count": 10,
     "metadata": {},
     "output_type": "execute_result"
    }
   ],
   "source": [
    "semanas = sorted(list(etapas_df['Periodo'].unique()))\n",
    "semanas = {semanas[x]:x+2 for x in range(len(semanas))}\n",
    "semanas"
   ]
  },
  {
   "cell_type": "code",
   "execution_count": 12,
   "metadata": {},
   "outputs": [],
   "source": [
    "etapas_df['Periodo'] = etapas_df['Periodo'].map(semanas)"
   ]
  },
  {
   "cell_type": "code",
   "execution_count": 13,
   "metadata": {},
   "outputs": [],
   "source": [
    "# Unir pendientes y etapas en arrivos\n",
    "arrivos_df = pd.concat([pendiente_df[['Stock', 'Periodo', 'Pendiente']].rename(columns={'Stock':'STOCK', 'Pendiente':'qty'}),\n",
    "    etapas_df[['STOCK', 'CANTIDAD DESPACHADA', 'Periodo']].rename(columns={'CANTIDAD DESPACHADA':'qty'})]).groupby(['STOCK', 'Periodo'])[['qty']].sum().reset_index()"
   ]
  },
  {
   "cell_type": "markdown",
   "metadata": {},
   "source": [
    "<h3>Forecast de venta</h3>"
   ]
  },
  {
   "cell_type": "code",
   "execution_count": 26,
   "metadata": {},
   "outputs": [],
   "source": [
    "forecast_path = 'Y:\\\\PlaneacionDemanda\\\\Rollovers\\\\Current\\\\output\\\\Europa\\\\Europa_202112 Salida Numérica_BASE.txt'\n",
    "forecast_df = pd.read_csv(forecast_path, sep='\\t')\n",
    "forecast_df = forecast_df[forecast_df['COD_EMPRESA']=='GMB'].copy()\n",
    "forecast_df = forecast_df[forecast_df['A�o']==2022].copy()\n",
    "forecast_df['STOCK'] = forecast_df['PRODUCTO'].apply(lambda x: str(x).split(sep='=')[0])\n",
    "forecast_df['FechaVenta'] = forecast_df.apply(lambda x: datetime(x['A�o'], x['Per�odo'],1), axis=1)\n",
    "forecast_df['SemanaVenta'] = forecast_df['FechaVenta'].dt.strftime(\"%Y%V\").astype('int')\n"
   ]
  },
  {
   "cell_type": "code",
   "execution_count": 27,
   "metadata": {},
   "outputs": [
    {
     "data": {
      "text/plain": [
       "{202205: 5,\n",
       " 202209: 9,\n",
       " 202213: 13,\n",
       " 202217: 17,\n",
       " 202222: 22,\n",
       " 202226: 26,\n",
       " 202231: 31,\n",
       " 202235: 35,\n",
       " 202239: 39,\n",
       " 202244: 44,\n",
       " 202248: 48,\n",
       " 202252: 52}"
      ]
     },
     "execution_count": 27,
     "metadata": {},
     "output_type": "execute_result"
    }
   ],
   "source": [
    "semanas = sorted(list(forecast_df['SemanaVenta'].unique()))\n",
    "semanas = {semanas[x]: int(str(semanas[x])[4:]) for x in range(len(semanas))}\n",
    "semanas"
   ]
  },
  {
   "cell_type": "code",
   "execution_count": 28,
   "metadata": {},
   "outputs": [],
   "source": [
    "forecast_df['Periodo'] = forecast_df['SemanaVenta'].map(semanas)"
   ]
  },
  {
   "cell_type": "code",
   "execution_count": 30,
   "metadata": {},
   "outputs": [],
   "source": [
    "forecast_df = forecast_df.groupby(['STOCK', 'Periodo'])[['Pron�stico']].sum().reset_index().rename(columns={'Pron�stico':'qty'})"
   ]
  },
  {
   "cell_type": "code",
   "execution_count": 52,
   "metadata": {},
   "outputs": [],
   "source": [
    "forecast_df['TipoDato'] = 'Forecast'\n",
    "arrivos_df['TipoDato'] = 'Arrivals'\n",
    "existencias_gmb_df['TipoDato'] = 'IOH_Inicial'"
   ]
  },
  {
   "cell_type": "code",
   "execution_count": 61,
   "metadata": {},
   "outputs": [],
   "source": [
    "data_df = pd.concat([forecast_df, arrivos_df, existencias_gmb_df]).pivot_table(index=['STOCK', 'TipoDato'], columns='Periodo', values='qty', aggfunc=np.sum).fillna(0.0)"
   ]
  },
  {
   "cell_type": "code",
   "execution_count": 72,
   "metadata": {},
   "outputs": [
    {
     "data": {
      "text/html": [
       "<div>\n",
       "<style scoped>\n",
       "    .dataframe tbody tr th:only-of-type {\n",
       "        vertical-align: middle;\n",
       "    }\n",
       "\n",
       "    .dataframe tbody tr th {\n",
       "        vertical-align: top;\n",
       "    }\n",
       "\n",
       "    .dataframe thead tr th {\n",
       "        text-align: left;\n",
       "    }\n",
       "</style>\n",
       "<table border=\"1\" class=\"dataframe\">\n",
       "  <thead>\n",
       "    <tr>\n",
       "      <th></th>\n",
       "      <th>Periodo</th>\n",
       "      <th>105-8028</th>\n",
       "    </tr>\n",
       "    <tr>\n",
       "      <th></th>\n",
       "      <th></th>\n",
       "      <th>Forecast</th>\n",
       "    </tr>\n",
       "  </thead>\n",
       "  <tbody>\n",
       "    <tr>\n",
       "      <th>0</th>\n",
       "      <td>0</td>\n",
       "      <td>0.00</td>\n",
       "    </tr>\n",
       "    <tr>\n",
       "      <th>1</th>\n",
       "      <td>2</td>\n",
       "      <td>0.00</td>\n",
       "    </tr>\n",
       "    <tr>\n",
       "      <th>2</th>\n",
       "      <td>3</td>\n",
       "      <td>0.00</td>\n",
       "    </tr>\n",
       "    <tr>\n",
       "      <th>3</th>\n",
       "      <td>4</td>\n",
       "      <td>0.00</td>\n",
       "    </tr>\n",
       "    <tr>\n",
       "      <th>4</th>\n",
       "      <td>5</td>\n",
       "      <td>377.63</td>\n",
       "    </tr>\n",
       "    <tr>\n",
       "      <th>5</th>\n",
       "      <td>9</td>\n",
       "      <td>359.12</td>\n",
       "    </tr>\n",
       "    <tr>\n",
       "      <th>6</th>\n",
       "      <td>10</td>\n",
       "      <td>0.00</td>\n",
       "    </tr>\n",
       "    <tr>\n",
       "      <th>7</th>\n",
       "      <td>11</td>\n",
       "      <td>0.00</td>\n",
       "    </tr>\n",
       "    <tr>\n",
       "      <th>8</th>\n",
       "      <td>12</td>\n",
       "      <td>0.00</td>\n",
       "    </tr>\n",
       "    <tr>\n",
       "      <th>9</th>\n",
       "      <td>13</td>\n",
       "      <td>332.49</td>\n",
       "    </tr>\n",
       "    <tr>\n",
       "      <th>10</th>\n",
       "      <td>14</td>\n",
       "      <td>0.00</td>\n",
       "    </tr>\n",
       "    <tr>\n",
       "      <th>11</th>\n",
       "      <td>15</td>\n",
       "      <td>0.00</td>\n",
       "    </tr>\n",
       "    <tr>\n",
       "      <th>12</th>\n",
       "      <td>16</td>\n",
       "      <td>0.00</td>\n",
       "    </tr>\n",
       "    <tr>\n",
       "      <th>13</th>\n",
       "      <td>17</td>\n",
       "      <td>304.31</td>\n",
       "    </tr>\n",
       "    <tr>\n",
       "      <th>14</th>\n",
       "      <td>18</td>\n",
       "      <td>0.00</td>\n",
       "    </tr>\n",
       "    <tr>\n",
       "      <th>15</th>\n",
       "      <td>19</td>\n",
       "      <td>0.00</td>\n",
       "    </tr>\n",
       "    <tr>\n",
       "      <th>16</th>\n",
       "      <td>22</td>\n",
       "      <td>369.33</td>\n",
       "    </tr>\n",
       "    <tr>\n",
       "      <th>17</th>\n",
       "      <td>26</td>\n",
       "      <td>357.07</td>\n",
       "    </tr>\n",
       "    <tr>\n",
       "      <th>18</th>\n",
       "      <td>31</td>\n",
       "      <td>355.01</td>\n",
       "    </tr>\n",
       "    <tr>\n",
       "      <th>19</th>\n",
       "      <td>35</td>\n",
       "      <td>329.14</td>\n",
       "    </tr>\n",
       "    <tr>\n",
       "      <th>20</th>\n",
       "      <td>39</td>\n",
       "      <td>307.17</td>\n",
       "    </tr>\n",
       "    <tr>\n",
       "      <th>21</th>\n",
       "      <td>44</td>\n",
       "      <td>376.61</td>\n",
       "    </tr>\n",
       "    <tr>\n",
       "      <th>22</th>\n",
       "      <td>48</td>\n",
       "      <td>330.56</td>\n",
       "    </tr>\n",
       "    <tr>\n",
       "      <th>23</th>\n",
       "      <td>52</td>\n",
       "      <td>364.25</td>\n",
       "    </tr>\n",
       "  </tbody>\n",
       "</table>\n",
       "</div>"
      ],
      "text/plain": [
       "   Periodo 105-8028\n",
       "           Forecast\n",
       "0        0     0.00\n",
       "1        2     0.00\n",
       "2        3     0.00\n",
       "3        4     0.00\n",
       "4        5   377.63\n",
       "5        9   359.12\n",
       "6       10     0.00\n",
       "7       11     0.00\n",
       "8       12     0.00\n",
       "9       13   332.49\n",
       "10      14     0.00\n",
       "11      15     0.00\n",
       "12      16     0.00\n",
       "13      17   304.31\n",
       "14      18     0.00\n",
       "15      19     0.00\n",
       "16      22   369.33\n",
       "17      26   357.07\n",
       "18      31   355.01\n",
       "19      35   329.14\n",
       "20      39   307.17\n",
       "21      44   376.61\n",
       "22      48   330.56\n",
       "23      52   364.25"
      ]
     },
     "execution_count": 72,
     "metadata": {},
     "output_type": "execute_result"
    }
   ],
   "source": [
    "data_df.loc[('105-8028','Forecast')].reset_index()"
   ]
  },
  {
   "cell_type": "markdown",
   "metadata": {},
   "source": [
    "<h3>Usar simulador</h3>"
   ]
  },
  {
   "cell_type": "code",
   "execution_count": 70,
   "metadata": {},
   "outputs": [],
   "source": [
    "from sim_utils.simulators import ReorderPointSimpleSimulator"
   ]
  },
  {
   "cell_type": "code",
   "execution_count": null,
   "metadata": {},
   "outputs": [],
   "source": [
    "sim = ReorderPointSimpleSimulator(initial_inventory=0.0, lead_time=1, reorder_point=10, quantity_to_order=10, safety_Stock=0.0)\n",
    "\n"
   ]
  },
  {
   "cell_type": "code",
   "execution_count": null,
   "metadata": {},
   "outputs": [],
   "source": [
    "sku_list = "
   ]
  }
 ],
 "metadata": {
  "interpreter": {
   "hash": "2a2e8cfdbedb8ac9475e44ae526dbc3b58212f99b5841486c5ffe5f7e529ffa6"
  },
  "kernelspec": {
   "display_name": "Python 3.9.2 64-bit",
   "language": "python",
   "name": "python3"
  },
  "language_info": {
   "codemirror_mode": {
    "name": "ipython",
    "version": 3
   },
   "file_extension": ".py",
   "mimetype": "text/x-python",
   "name": "python",
   "nbconvert_exporter": "python",
   "pygments_lexer": "ipython3",
   "version": "3.9.2"
  },
  "orig_nbformat": 4
 },
 "nbformat": 4,
 "nbformat_minor": 2
}
